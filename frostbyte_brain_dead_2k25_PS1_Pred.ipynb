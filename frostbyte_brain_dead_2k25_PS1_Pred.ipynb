{
 "cells": [
  {
   "cell_type": "code",
   "execution_count": null,
   "metadata": {
    "_cell_guid": "b1076dfc-b9ad-4769-8c92-a6c4dae69d19",
    "_uuid": "8f2839f25d086af736a60e9eeb907d3b93b6e0e5",
    "execution": {
     "iopub.status.busy": "2025-03-23T16:18:27.531182Z",
     "iopub.status.idle": "2025-03-23T16:18:27.531518Z",
     "shell.execute_reply": "2025-03-23T16:18:27.531392Z"
    },
    "trusted": true
   },
   "outputs": [],
   "source": [
    "# Import required libraries\n",
    "import pandas as pd\n",
    "import numpy as np\n",
    "import matplotlib.pyplot as plt\n",
    "import seaborn as sns\n",
    "from sklearn.model_selection import train_test_split\n",
    "from sklearn.preprocessing import LabelEncoder\n",
    "from sklearn.cluster import KMeans\n",
    "from sklearn.ensemble import RandomForestClassifier\n",
    "from xgboost import XGBClassifier\n",
    "from sklearn.metrics import accuracy_score, classification_report\n",
    "from sklearn.preprocessing import StandardScaler\n",
    "from sklearn.ensemble import VotingClassifier\n",
    "import warnings"
   ]
  },
  {
   "cell_type": "code",
   "execution_count": 3,
   "metadata": {
    "execution": {
     "iopub.execute_input": "2025-03-23T16:18:31.108424Z",
     "iopub.status.busy": "2025-03-23T16:18:31.108091Z",
     "iopub.status.idle": "2025-03-23T16:18:31.113750Z",
     "shell.execute_reply": "2025-03-23T16:18:31.112303Z",
     "shell.execute_reply.started": "2025-03-23T16:18:31.108396Z"
    },
    "trusted": true
   },
   "outputs": [],
   "source": [
    "# Ignore warnings for clean output\n",
    "warnings.filterwarnings(\"ignore\")"
   ]
  },
  {
   "cell_type": "code",
   "execution_count": 4,
   "metadata": {
    "execution": {
     "iopub.execute_input": "2025-03-23T16:18:33.353128Z",
     "iopub.status.busy": "2025-03-23T16:18:33.352714Z",
     "iopub.status.idle": "2025-03-23T16:18:34.016001Z",
     "shell.execute_reply": "2025-03-23T16:18:34.014892Z",
     "shell.execute_reply.started": "2025-03-23T16:18:33.353093Z"
    },
    "trusted": true
   },
   "outputs": [],
   "source": [
    "# Load datasets\n",
    "matches = pd.read_csv(\"/kaggle/input/ipl-dataset/matches.csv\")\n",
    "deliveries = pd.read_csv(\"/kaggle/input/ipl-dataset/deliveries.csv\")"
   ]
  },
  {
   "cell_type": "code",
   "execution_count": null,
   "metadata": {
    "jupyter": {
     "source_hidden": true
    },
    "trusted": true
   },
   "outputs": [],
   "source": [
    "# Display first few rows of matches datasets\n",
    "print(\"Matches Dataset:\")\n",
    "display(matches.head())"
   ]
  },
  {
   "cell_type": "code",
   "execution_count": null,
   "metadata": {
    "jupyter": {
     "source_hidden": true
    },
    "trusted": true
   },
   "outputs": [],
   "source": [
    "# Display first few rows of deliveries datasets\n",
    "print(\"Deliveries Dataset:\")\n",
    "display(deliveries.head())"
   ]
  },
  {
   "cell_type": "code",
   "execution_count": null,
   "metadata": {
    "jupyter": {
     "source_hidden": true
    },
    "trusted": true
   },
   "outputs": [],
   "source": [
    "# Check for missing values\n",
    "print(\"\\nMissing values in Matches dataset:\")\n",
    "print(matches.isnull().sum())"
   ]
  },
  {
   "cell_type": "code",
   "execution_count": null,
   "metadata": {
    "jupyter": {
     "source_hidden": true
    },
    "trusted": true
   },
   "outputs": [],
   "source": [
    "print(\"\\nMissing values in Deliveries dataset:\")\n",
    "print(deliveries.isnull().sum())"
   ]
  },
  {
   "cell_type": "code",
   "execution_count": 5,
   "metadata": {
    "execution": {
     "iopub.execute_input": "2025-03-23T16:18:36.984686Z",
     "iopub.status.busy": "2025-03-23T16:18:36.984195Z",
     "iopub.status.idle": "2025-03-23T16:18:36.991934Z",
     "shell.execute_reply": "2025-03-23T16:18:36.990525Z",
     "shell.execute_reply.started": "2025-03-23T16:18:36.984640Z"
    },
    "trusted": true
   },
   "outputs": [],
   "source": [
    "# Drop unnecessary columns \n",
    "matches.drop(columns=['umpire1', 'umpire2', 'method'], inplace=True)"
   ]
  },
  {
   "cell_type": "code",
   "execution_count": 6,
   "metadata": {
    "execution": {
     "iopub.execute_input": "2025-03-23T16:18:38.623112Z",
     "iopub.status.busy": "2025-03-23T16:18:38.622723Z",
     "iopub.status.idle": "2025-03-23T16:18:38.629263Z",
     "shell.execute_reply": "2025-03-23T16:18:38.628023Z",
     "shell.execute_reply.started": "2025-03-23T16:18:38.623082Z"
    },
    "trusted": true
   },
   "outputs": [],
   "source": [
    "matches['city'].fillna('Unknown',inplace=True)"
   ]
  },
  {
   "cell_type": "code",
   "execution_count": 7,
   "metadata": {
    "execution": {
     "iopub.execute_input": "2025-03-23T16:18:40.423794Z",
     "iopub.status.busy": "2025-03-23T16:18:40.423345Z",
     "iopub.status.idle": "2025-03-23T16:18:40.431767Z",
     "shell.execute_reply": "2025-03-23T16:18:40.430737Z",
     "shell.execute_reply.started": "2025-03-23T16:18:40.423749Z"
    },
    "trusted": true
   },
   "outputs": [],
   "source": [
    "matches.dropna(subset=['player_of_match'], inplace=True)"
   ]
  },
  {
   "cell_type": "code",
   "execution_count": 8,
   "metadata": {
    "execution": {
     "iopub.execute_input": "2025-03-23T16:18:42.143116Z",
     "iopub.status.busy": "2025-03-23T16:18:42.142746Z",
     "iopub.status.idle": "2025-03-23T16:18:42.147948Z",
     "shell.execute_reply": "2025-03-23T16:18:42.146478Z",
     "shell.execute_reply.started": "2025-03-23T16:18:42.143085Z"
    },
    "trusted": true
   },
   "outputs": [],
   "source": [
    "# Standardize team names\n",
    "team_name_changes = {\n",
    "    \"Delhi Daredevils\": \"Delhi Capitals\",\n",
    "    \"Deccan Chargers\": \"Sunrisers Hyderabad\",\n",
    "    \"Gujarat Lions\": \"Gujarat Titans\",\n",
    "    \"Kings XI Punjab\": \"Punjab Kings\",\n",
    "    \"Royal Challengers Bangalore\": \"Royal Challengers Bengaluru\",\n",
    "    \"Rising Pune Supergiant\": \"Rising Pune Supergiants\"\n",
    "    \n",
    "}"
   ]
  },
  {
   "cell_type": "code",
   "execution_count": 9,
   "metadata": {
    "execution": {
     "iopub.execute_input": "2025-03-23T16:18:44.908528Z",
     "iopub.status.busy": "2025-03-23T16:18:44.908194Z",
     "iopub.status.idle": "2025-03-23T16:18:44.920637Z",
     "shell.execute_reply": "2025-03-23T16:18:44.919486Z",
     "shell.execute_reply.started": "2025-03-23T16:18:44.908501Z"
    },
    "trusted": true
   },
   "outputs": [],
   "source": [
    "matches.replace({\"team1\": team_name_changes, \"team2\": team_name_changes, \n",
    "                 \"winner\": team_name_changes, \"toss_winner\": team_name_changes}, inplace=True)"
   ]
  },
  {
   "cell_type": "code",
   "execution_count": 10,
   "metadata": {
    "execution": {
     "iopub.execute_input": "2025-03-23T16:18:46.943093Z",
     "iopub.status.busy": "2025-03-23T16:18:46.942724Z",
     "iopub.status.idle": "2025-03-23T16:18:47.103881Z",
     "shell.execute_reply": "2025-03-23T16:18:47.102818Z",
     "shell.execute_reply.started": "2025-03-23T16:18:46.943061Z"
    },
    "trusted": true
   },
   "outputs": [],
   "source": [
    "deliveries.replace({\"batting_team\": team_name_changes, \"bowling_team\": team_name_changes}, inplace=True)"
   ]
  },
  {
   "cell_type": "code",
   "execution_count": 11,
   "metadata": {
    "execution": {
     "iopub.execute_input": "2025-03-23T16:18:49.188387Z",
     "iopub.status.busy": "2025-03-23T16:18:49.188017Z",
     "iopub.status.idle": "2025-03-23T16:18:49.198554Z",
     "shell.execute_reply": "2025-03-23T16:18:49.197402Z",
     "shell.execute_reply.started": "2025-03-23T16:18:49.188354Z"
    },
    "trusted": true
   },
   "outputs": [
    {
     "name": "stdout",
     "output_type": "stream",
     "text": [
      "Updated dataset shape: (1002, 17)\n"
     ]
    }
   ],
   "source": [
    "# Define teams to remove\n",
    "teams_to_remove = [\"Rising Pune Supergiants\", \"Kochi Tuskers Kerala\", \"Pune Warriors\"]\n",
    "\n",
    "# Filter out matches where either team1 or team2 is in teams_to_remove\n",
    "matches = matches[~matches['team1'].isin(teams_to_remove) & ~matches['team2'].isin(teams_to_remove)]\n",
    "\n",
    "# Reset index\n",
    "matches.reset_index(drop=True, inplace=True)\n",
    "\n",
    "print(\"Updated dataset shape:\", matches.shape)"
   ]
  },
  {
   "cell_type": "code",
   "execution_count": 12,
   "metadata": {
    "execution": {
     "iopub.execute_input": "2025-03-23T16:18:51.668738Z",
     "iopub.status.busy": "2025-03-23T16:18:51.668163Z",
     "iopub.status.idle": "2025-03-23T16:18:51.675863Z",
     "shell.execute_reply": "2025-03-23T16:18:51.674490Z",
     "shell.execute_reply.started": "2025-03-23T16:18:51.668695Z"
    },
    "trusted": true
   },
   "outputs": [
    {
     "name": "stdout",
     "output_type": "stream",
     "text": [
      "Unique Teams: {'Lucknow Super Giants', 'Gujarat Titans', 'Rajasthan Royals', 'Delhi Capitals', 'Sunrisers Hyderabad', 'Chennai Super Kings', 'Mumbai Indians', 'Kolkata Knight Riders', 'Punjab Kings', 'Royal Challengers Bengaluru'}\n"
     ]
    }
   ],
   "source": [
    "unique_teams = set(matches['team1']).union(set(matches['team2']))\n",
    "print(\"Unique Teams:\", unique_teams)"
   ]
  },
  {
   "cell_type": "code",
   "execution_count": 13,
   "metadata": {
    "execution": {
     "iopub.execute_input": "2025-03-23T16:18:53.403220Z",
     "iopub.status.busy": "2025-03-23T16:18:53.402883Z",
     "iopub.status.idle": "2025-03-23T16:18:53.409540Z",
     "shell.execute_reply": "2025-03-23T16:18:53.408060Z",
     "shell.execute_reply.started": "2025-03-23T16:18:53.403193Z"
    },
    "trusted": true
   },
   "outputs": [],
   "source": [
    "# Remove matches that had super overs \n",
    "matches = matches[matches['result'] != \"tie\"]"
   ]
  },
  {
   "cell_type": "code",
   "execution_count": 17,
   "metadata": {
    "execution": {
     "iopub.execute_input": "2025-03-23T16:19:50.863536Z",
     "iopub.status.busy": "2025-03-23T16:19:50.863190Z",
     "iopub.status.idle": "2025-03-23T16:19:50.875004Z",
     "shell.execute_reply": "2025-03-23T16:19:50.873373Z",
     "shell.execute_reply.started": "2025-03-23T16:19:50.863508Z"
    },
    "trusted": true
   },
   "outputs": [
    {
     "name": "stdout",
     "output_type": "stream",
     "text": [
      "\n",
      "Missing values in Matches dataset:\n",
      "id                 0\n",
      "season             0\n",
      "city               0\n",
      "date               0\n",
      "match_type         0\n",
      "player_of_match    0\n",
      "venue              0\n",
      "team1              0\n",
      "team2              0\n",
      "toss_winner        0\n",
      "toss_decision      0\n",
      "winner             0\n",
      "result             0\n",
      "result_margin      0\n",
      "target_runs        0\n",
      "target_overs       0\n",
      "super_over         0\n",
      "dtype: int64\n"
     ]
    }
   ],
   "source": [
    "# Check for missing values\n",
    "print(\"\\nMissing values in Matches dataset:\")\n",
    "print(matches.isnull().sum())"
   ]
  },
  {
   "cell_type": "code",
   "execution_count": 16,
   "metadata": {
    "execution": {
     "iopub.execute_input": "2025-03-23T16:19:47.670905Z",
     "iopub.status.busy": "2025-03-23T16:19:47.670476Z",
     "iopub.status.idle": "2025-03-23T16:19:47.678062Z",
     "shell.execute_reply": "2025-03-23T16:19:47.676528Z",
     "shell.execute_reply.started": "2025-03-23T16:19:47.670871Z"
    },
    "trusted": true
   },
   "outputs": [],
   "source": [
    "# Convert date to datetime format for time-based analysis\n",
    "matches['date'] = pd.to_datetime(matches['date'])"
   ]
  },
  {
   "cell_type": "code",
   "execution_count": null,
   "metadata": {
    "jupyter": {
     "source_hidden": true
    },
    "trusted": true
   },
   "outputs": [],
   "source": [
    "# Save cleaned datasets\n",
    "matches.to_csv(\"cleaned_matches.csv\", index=False)\n",
    "deliveries.to_csv(\"cleaned_deliveries.csv\", index=False)"
   ]
  },
  {
   "cell_type": "code",
   "execution_count": 18,
   "metadata": {
    "execution": {
     "iopub.execute_input": "2025-03-23T16:19:53.783101Z",
     "iopub.status.busy": "2025-03-23T16:19:53.782755Z",
     "iopub.status.idle": "2025-03-23T16:19:53.801399Z",
     "shell.execute_reply": "2025-03-23T16:19:53.800149Z",
     "shell.execute_reply.started": "2025-03-23T16:19:53.783074Z"
    },
    "trusted": true
   },
   "outputs": [],
   "source": [
    "# Compute total matches played by each team\n",
    "matches_played = pd.concat([matches[['team1', 'winner']], matches[['team2', 'winner']].rename(columns={'team2': 'team1'})])\n",
    "team_total_matches = matches_played.groupby('team1').size()\n",
    "\n",
    "# Compute total wins by each team\n",
    "team_wins = matches_played.groupby('team1')['winner'].apply(lambda x: (x == x.name).sum())\n",
    "\n",
    "# Compute win percentage for each team\n",
    "win_percentage = (team_wins / team_total_matches).fillna(0)\n",
    "\n",
    "# Map win percentage back to matches dataset\n",
    "matches['team1_win_percentage'] = matches['team1'].map(win_percentage)\n",
    "matches['team2_win_percentage'] = matches['team2'].map(win_percentage)"
   ]
  },
  {
   "cell_type": "code",
   "execution_count": 19,
   "metadata": {
    "execution": {
     "iopub.execute_input": "2025-03-23T16:19:56.468420Z",
     "iopub.status.busy": "2025-03-23T16:19:56.468040Z",
     "iopub.status.idle": "2025-03-23T16:19:56.475402Z",
     "shell.execute_reply": "2025-03-23T16:19:56.473986Z",
     "shell.execute_reply.started": "2025-03-23T16:19:56.468387Z"
    },
    "trusted": true
   },
   "outputs": [
    {
     "name": "stdout",
     "output_type": "stream",
     "text": [
      "{'Mumbai Indians': ['Mumbai', 'Navi Mumbai'], 'Chennai Super Kings': ['Chennai'], 'Kolkata Knight Riders': ['Kolkata', 'Ranchi'], 'Royal Challengers Bengaluru': ['Bangalore', 'Bengaluru'], 'Sunrisers Hyderabad': ['Hyderabad', 'Visakhapatnam'], 'Delhi Capitals': ['Delhi', 'Raipur'], 'Punjab Kings': ['Chandigarh', 'Mohali', 'Dharamsala'], 'Rajasthan Royals': ['Jaipur', 'Ahmedabad'], 'Gujarat Titans': ['Ahmedabad'], 'Lucknow Super Giants': ['Lucknow']}\n"
     ]
    }
   ],
   "source": [
    "# Define home cities for each team\n",
    "team_home_cities = {\n",
    "    'Mumbai Indians': ['Mumbai', 'Navi Mumbai'],\n",
    "    'Chennai Super Kings': ['Chennai'],\n",
    "    'Kolkata Knight Riders': ['Kolkata'],\n",
    "    'Royal Challengers Bengaluru': ['Bangalore', 'Bengaluru'],\n",
    "    'Sunrisers Hyderabad': ['Hyderabad'],\n",
    "    'Delhi Capitals': ['Delhi'],\n",
    "    'Punjab Kings': ['Chandigarh', 'Mohali'],\n",
    "    'Rajasthan Royals': ['Jaipur'],\n",
    "    'Gujarat Titans': ['Ahmedabad'],\n",
    "    'Lucknow Super Giants': ['Lucknow'],\n",
    "}\n",
    "\n",
    "# Add additional cities where teams have played home games occasionally\n",
    "extra_home_grounds = {\n",
    "    'Punjab Kings': ['Dharamsala'],\n",
    "    'Delhi Capitals': ['Raipur'],\n",
    "    'Kolkata Knight Riders': ['Ranchi'],\n",
    "    'Rajasthan Royals': ['Ahmedabad'],\n",
    "    'Sunrisers Hyderabad': ['Visakhapatnam']\n",
    "}\n",
    "\n",
    "# Merge additional home grounds\n",
    "for team, cities in extra_home_grounds.items():\n",
    "    team_home_cities[team].extend(cities)\n",
    "\n",
    "print(team_home_cities)\n"
   ]
  },
  {
   "cell_type": "code",
   "execution_count": 20,
   "metadata": {
    "execution": {
     "iopub.execute_input": "2025-03-23T16:19:59.223379Z",
     "iopub.status.busy": "2025-03-23T16:19:59.223001Z",
     "iopub.status.idle": "2025-03-23T16:19:59.247450Z",
     "shell.execute_reply": "2025-03-23T16:19:59.245472Z",
     "shell.execute_reply.started": "2025-03-23T16:19:59.223345Z"
    },
    "trusted": true
   },
   "outputs": [],
   "source": [
    "# Function to check if the city is a home city for team1\n",
    "def is_home_team(team, city):\n",
    "    return int(city in team_home_cities.get(team, []))\n",
    "\n",
    "# Apply the function to create the isTeam1Home column\n",
    "matches['isTeam1Home'] = matches.apply(lambda x: is_home_team(x['team1'], x['city']), axis=1)"
   ]
  },
  {
   "cell_type": "code",
   "execution_count": 21,
   "metadata": {
    "execution": {
     "iopub.execute_input": "2025-03-23T16:20:01.743884Z",
     "iopub.status.busy": "2025-03-23T16:20:01.743415Z",
     "iopub.status.idle": "2025-03-23T16:20:01.750192Z",
     "shell.execute_reply": "2025-03-23T16:20:01.748680Z",
     "shell.execute_reply.started": "2025-03-23T16:20:01.743847Z"
    },
    "trusted": true
   },
   "outputs": [
    {
     "name": "stdout",
     "output_type": "stream",
     "text": [
      "Unique Teams: {'Lucknow Super Giants', 'Gujarat Titans', 'Rajasthan Royals', 'Delhi Capitals', 'Sunrisers Hyderabad', 'Chennai Super Kings', 'Mumbai Indians', 'Kolkata Knight Riders', 'Punjab Kings', 'Royal Challengers Bengaluru'}\n"
     ]
    }
   ],
   "source": [
    "unique_teams = set(matches['team1']).union(set(matches['team2']))\n",
    "print(\"Unique Teams:\", unique_teams)\n"
   ]
  },
  {
   "cell_type": "code",
   "execution_count": null,
   "metadata": {
    "jupyter": {
     "source_hidden": true
    },
    "trusted": true
   },
   "outputs": [],
   "source": [
    "matches.head()"
   ]
  },
  {
   "cell_type": "code",
   "execution_count": null,
   "metadata": {
    "jupyter": {
     "source_hidden": true
    },
    "trusted": true
   },
   "outputs": [],
   "source": [
    "# Count total matches played at each venue by each team\n",
    "venue_matches = pd.concat([\n",
    "    matches[['team1', 'venue']].rename(columns={'team1': 'team'}),\n",
    "    matches[['team2', 'venue']].rename(columns={'team2': 'team'})\n",
    "]).groupby(['team', 'venue']).size()\n",
    "\n",
    "# Count total matches played by each team\n",
    "total_matches = pd.concat([\n",
    "    matches[['team1']].rename(columns={'team1': 'team'}),\n",
    "    matches[['team2']].rename(columns={'team2': 'team'})\n",
    "]).groupby('team').size()\n",
    "\n",
    "# Compute home advantage as a simple dictionary\n",
    "home_advantage = (venue_matches / total_matches).fillna(0).to_dict()\n",
    "\n",
    "# Define a function to fetch home advantage safely\n",
    "def get_home_advantage(team, venue):\n",
    "    return home_advantage.get((team, venue), 0)\n",
    "\n",
    "# Apply the function to both team1 and team2\n",
    "matches['team1_home_advantage'] = matches.apply(lambda x: get_home_advantage(x['team1'], x['venue']), axis=1)\n",
    "matches['team2_home_advantage'] = matches.apply(lambda x: get_home_advantage(x['team2'], x['venue']), axis=1)"
   ]
  },
  {
   "cell_type": "code",
   "execution_count": null,
   "metadata": {
    "jupyter": {
     "source_hidden": true
    },
    "trusted": true
   },
   "outputs": [],
   "source": [
    "# Powerplay & Death Overs Performance\n",
    "powerplay = deliveries[(deliveries['over'] >= 1) & (deliveries['over'] <= 6)]\n",
    "death_overs = deliveries[(deliveries['over'] >= 16) & (deliveries['over'] <= 20)]"
   ]
  },
  {
   "cell_type": "code",
   "execution_count": null,
   "metadata": {
    "jupyter": {
     "source_hidden": true
    },
    "trusted": true
   },
   "outputs": [],
   "source": [
    "def team_phase_performance(df, phase_name):\n",
    "    phase_runs = df.groupby('batting_team')['total_runs'].sum().rename(f'{phase_name}_runs')\n",
    "    return phase_runs\n",
    "\n",
    "powerplay_runs = team_phase_performance(powerplay, 'powerplay')\n",
    "death_runs = team_phase_performance(death_overs, 'death')\n",
    "\n",
    "# Merge into matches ensuring correct alignment\n",
    "matches = matches.merge(powerplay_runs, left_on='team1', right_index=True, how='left')\n",
    "matches = matches.merge(death_runs, left_on='team1', right_index=True, how='left')\n",
    "\n",
    "# Fill missing values with 0 (if some teams had no matches in that phase)\n",
    "matches['powerplay_runs'].fillna(0, inplace=True)\n",
    "matches['death_runs'].fillna(0, inplace=True)"
   ]
  },
  {
   "cell_type": "code",
   "execution_count": 22,
   "metadata": {
    "execution": {
     "iopub.execute_input": "2025-03-23T16:20:04.748436Z",
     "iopub.status.busy": "2025-03-23T16:20:04.748095Z",
     "iopub.status.idle": "2025-03-23T16:20:04.769695Z",
     "shell.execute_reply": "2025-03-23T16:20:04.768701Z",
     "shell.execute_reply.started": "2025-03-23T16:20:04.748410Z"
    },
    "trusted": true
   },
   "outputs": [],
   "source": [
    "# Venue Impact Feature\n",
    "venue_win_rate = matches.groupby(['venue', 'winner']).size().unstack(fill_value=0)\n",
    "\n",
    "# Normalize win rates per venue\n",
    "venue_win_rate = venue_win_rate.div(venue_win_rate.sum(axis=1), axis=0)\n",
    "\n",
    "# Convert to long format for merging\n",
    "venue_win_rate = venue_win_rate.reset_index().melt(id_vars=['venue'], var_name='venue_team', value_name='win_rate')\n",
    "\n",
    "# Merge venue win rate but avoid duplicate columns\n",
    "matches = matches.merge(venue_win_rate, left_on=['venue', 'team1'], right_on=['venue', 'venue_team'], how='left')\n",
    "\n",
    "# Drop the extra 'venue_team' column\n",
    "matches.drop(columns=['venue_team'], inplace=True)"
   ]
  },
  {
   "cell_type": "code",
   "execution_count": 23,
   "metadata": {
    "execution": {
     "iopub.execute_input": "2025-03-23T16:20:07.023530Z",
     "iopub.status.busy": "2025-03-23T16:20:07.023184Z",
     "iopub.status.idle": "2025-03-23T16:20:07.052264Z",
     "shell.execute_reply": "2025-03-23T16:20:07.051101Z",
     "shell.execute_reply.started": "2025-03-23T16:20:07.023498Z"
    },
    "trusted": true
   },
   "outputs": [
    {
     "data": {
      "text/html": [
       "<div>\n",
       "<style scoped>\n",
       "    .dataframe tbody tr th:only-of-type {\n",
       "        vertical-align: middle;\n",
       "    }\n",
       "\n",
       "    .dataframe tbody tr th {\n",
       "        vertical-align: top;\n",
       "    }\n",
       "\n",
       "    .dataframe thead th {\n",
       "        text-align: right;\n",
       "    }\n",
       "</style>\n",
       "<table border=\"1\" class=\"dataframe\">\n",
       "  <thead>\n",
       "    <tr style=\"text-align: right;\">\n",
       "      <th></th>\n",
       "      <th>id</th>\n",
       "      <th>season</th>\n",
       "      <th>city</th>\n",
       "      <th>date</th>\n",
       "      <th>match_type</th>\n",
       "      <th>player_of_match</th>\n",
       "      <th>venue</th>\n",
       "      <th>team1</th>\n",
       "      <th>team2</th>\n",
       "      <th>toss_winner</th>\n",
       "      <th>...</th>\n",
       "      <th>winner</th>\n",
       "      <th>result</th>\n",
       "      <th>result_margin</th>\n",
       "      <th>target_runs</th>\n",
       "      <th>target_overs</th>\n",
       "      <th>super_over</th>\n",
       "      <th>team1_win_percentage</th>\n",
       "      <th>team2_win_percentage</th>\n",
       "      <th>isTeam1Home</th>\n",
       "      <th>win_rate</th>\n",
       "    </tr>\n",
       "  </thead>\n",
       "  <tbody>\n",
       "    <tr>\n",
       "      <th>0</th>\n",
       "      <td>335982</td>\n",
       "      <td>2007/08</td>\n",
       "      <td>Bangalore</td>\n",
       "      <td>2008-04-18</td>\n",
       "      <td>League</td>\n",
       "      <td>BB McCullum</td>\n",
       "      <td>M Chinnaswamy Stadium</td>\n",
       "      <td>Royal Challengers Bengaluru</td>\n",
       "      <td>Kolkata Knight Riders</td>\n",
       "      <td>Royal Challengers Bengaluru</td>\n",
       "      <td>...</td>\n",
       "      <td>Kolkata Knight Riders</td>\n",
       "      <td>runs</td>\n",
       "      <td>140.0</td>\n",
       "      <td>223.0</td>\n",
       "      <td>20.0</td>\n",
       "      <td>N</td>\n",
       "      <td>0.470588</td>\n",
       "      <td>0.521186</td>\n",
       "      <td>1</td>\n",
       "      <td>0.410714</td>\n",
       "    </tr>\n",
       "    <tr>\n",
       "      <th>1</th>\n",
       "      <td>335983</td>\n",
       "      <td>2007/08</td>\n",
       "      <td>Chandigarh</td>\n",
       "      <td>2008-04-19</td>\n",
       "      <td>League</td>\n",
       "      <td>MEK Hussey</td>\n",
       "      <td>Punjab Cricket Association Stadium, Mohali</td>\n",
       "      <td>Punjab Kings</td>\n",
       "      <td>Chennai Super Kings</td>\n",
       "      <td>Chennai Super Kings</td>\n",
       "      <td>...</td>\n",
       "      <td>Chennai Super Kings</td>\n",
       "      <td>runs</td>\n",
       "      <td>33.0</td>\n",
       "      <td>241.0</td>\n",
       "      <td>20.0</td>\n",
       "      <td>N</td>\n",
       "      <td>0.445887</td>\n",
       "      <td>0.583333</td>\n",
       "      <td>1</td>\n",
       "      <td>0.500000</td>\n",
       "    </tr>\n",
       "    <tr>\n",
       "      <th>2</th>\n",
       "      <td>335984</td>\n",
       "      <td>2007/08</td>\n",
       "      <td>Delhi</td>\n",
       "      <td>2008-04-19</td>\n",
       "      <td>League</td>\n",
       "      <td>MF Maharoof</td>\n",
       "      <td>Feroz Shah Kotla</td>\n",
       "      <td>Delhi Capitals</td>\n",
       "      <td>Rajasthan Royals</td>\n",
       "      <td>Rajasthan Royals</td>\n",
       "      <td>...</td>\n",
       "      <td>Delhi Capitals</td>\n",
       "      <td>wickets</td>\n",
       "      <td>9.0</td>\n",
       "      <td>130.0</td>\n",
       "      <td>20.0</td>\n",
       "      <td>N</td>\n",
       "      <td>0.451064</td>\n",
       "      <td>0.502392</td>\n",
       "      <td>1</td>\n",
       "      <td>0.400000</td>\n",
       "    </tr>\n",
       "    <tr>\n",
       "      <th>3</th>\n",
       "      <td>335985</td>\n",
       "      <td>2007/08</td>\n",
       "      <td>Mumbai</td>\n",
       "      <td>2008-04-20</td>\n",
       "      <td>League</td>\n",
       "      <td>MV Boucher</td>\n",
       "      <td>Wankhede Stadium</td>\n",
       "      <td>Mumbai Indians</td>\n",
       "      <td>Royal Challengers Bengaluru</td>\n",
       "      <td>Mumbai Indians</td>\n",
       "      <td>...</td>\n",
       "      <td>Royal Challengers Bengaluru</td>\n",
       "      <td>wickets</td>\n",
       "      <td>5.0</td>\n",
       "      <td>166.0</td>\n",
       "      <td>20.0</td>\n",
       "      <td>N</td>\n",
       "      <td>0.553279</td>\n",
       "      <td>0.470588</td>\n",
       "      <td>1</td>\n",
       "      <td>0.600000</td>\n",
       "    </tr>\n",
       "    <tr>\n",
       "      <th>4</th>\n",
       "      <td>335986</td>\n",
       "      <td>2007/08</td>\n",
       "      <td>Kolkata</td>\n",
       "      <td>2008-04-20</td>\n",
       "      <td>League</td>\n",
       "      <td>DJ Hussey</td>\n",
       "      <td>Eden Gardens</td>\n",
       "      <td>Kolkata Knight Riders</td>\n",
       "      <td>Sunrisers Hyderabad</td>\n",
       "      <td>Sunrisers Hyderabad</td>\n",
       "      <td>...</td>\n",
       "      <td>Kolkata Knight Riders</td>\n",
       "      <td>wickets</td>\n",
       "      <td>5.0</td>\n",
       "      <td>111.0</td>\n",
       "      <td>20.0</td>\n",
       "      <td>N</td>\n",
       "      <td>0.521186</td>\n",
       "      <td>0.450413</td>\n",
       "      <td>1</td>\n",
       "      <td>0.589041</td>\n",
       "    </tr>\n",
       "  </tbody>\n",
       "</table>\n",
       "<p>5 rows × 21 columns</p>\n",
       "</div>"
      ],
      "text/plain": [
       "       id   season        city       date match_type player_of_match  \\\n",
       "0  335982  2007/08   Bangalore 2008-04-18     League     BB McCullum   \n",
       "1  335983  2007/08  Chandigarh 2008-04-19     League      MEK Hussey   \n",
       "2  335984  2007/08       Delhi 2008-04-19     League     MF Maharoof   \n",
       "3  335985  2007/08      Mumbai 2008-04-20     League      MV Boucher   \n",
       "4  335986  2007/08     Kolkata 2008-04-20     League       DJ Hussey   \n",
       "\n",
       "                                        venue                        team1  \\\n",
       "0                       M Chinnaswamy Stadium  Royal Challengers Bengaluru   \n",
       "1  Punjab Cricket Association Stadium, Mohali                 Punjab Kings   \n",
       "2                            Feroz Shah Kotla               Delhi Capitals   \n",
       "3                            Wankhede Stadium               Mumbai Indians   \n",
       "4                                Eden Gardens        Kolkata Knight Riders   \n",
       "\n",
       "                         team2                  toss_winner  ...  \\\n",
       "0        Kolkata Knight Riders  Royal Challengers Bengaluru  ...   \n",
       "1          Chennai Super Kings          Chennai Super Kings  ...   \n",
       "2             Rajasthan Royals             Rajasthan Royals  ...   \n",
       "3  Royal Challengers Bengaluru               Mumbai Indians  ...   \n",
       "4          Sunrisers Hyderabad          Sunrisers Hyderabad  ...   \n",
       "\n",
       "                        winner   result result_margin  target_runs  \\\n",
       "0        Kolkata Knight Riders     runs         140.0        223.0   \n",
       "1          Chennai Super Kings     runs          33.0        241.0   \n",
       "2               Delhi Capitals  wickets           9.0        130.0   \n",
       "3  Royal Challengers Bengaluru  wickets           5.0        166.0   \n",
       "4        Kolkata Knight Riders  wickets           5.0        111.0   \n",
       "\n",
       "   target_overs  super_over team1_win_percentage  team2_win_percentage  \\\n",
       "0          20.0           N             0.470588              0.521186   \n",
       "1          20.0           N             0.445887              0.583333   \n",
       "2          20.0           N             0.451064              0.502392   \n",
       "3          20.0           N             0.553279              0.470588   \n",
       "4          20.0           N             0.521186              0.450413   \n",
       "\n",
       "   isTeam1Home  win_rate  \n",
       "0            1  0.410714  \n",
       "1            1  0.500000  \n",
       "2            1  0.400000  \n",
       "3            1  0.600000  \n",
       "4            1  0.589041  \n",
       "\n",
       "[5 rows x 21 columns]"
      ]
     },
     "execution_count": 23,
     "metadata": {},
     "output_type": "execute_result"
    }
   ],
   "source": [
    "matches.head()"
   ]
  },
  {
   "cell_type": "code",
   "execution_count": 24,
   "metadata": {
    "execution": {
     "iopub.execute_input": "2025-03-23T16:20:09.908132Z",
     "iopub.status.busy": "2025-03-23T16:20:09.907774Z",
     "iopub.status.idle": "2025-03-23T16:20:09.915677Z",
     "shell.execute_reply": "2025-03-23T16:20:09.914461Z",
     "shell.execute_reply.started": "2025-03-23T16:20:09.908104Z"
    },
    "trusted": true
   },
   "outputs": [],
   "source": [
    "### Feature 2: Last 5 Matches Win Percentage\n",
    "match_results = matches[['team1', 'team2', 'winner', 'date']]\n",
    "match_results['date'] = pd.to_datetime(match_results['date'])"
   ]
  },
  {
   "cell_type": "code",
   "execution_count": 25,
   "metadata": {
    "execution": {
     "iopub.execute_input": "2025-03-23T16:20:11.748097Z",
     "iopub.status.busy": "2025-03-23T16:20:11.747718Z",
     "iopub.status.idle": "2025-03-23T16:20:14.090142Z",
     "shell.execute_reply": "2025-03-23T16:20:14.088923Z",
     "shell.execute_reply.started": "2025-03-23T16:20:11.748062Z"
    },
    "trusted": true
   },
   "outputs": [],
   "source": [
    "# Function to calculate last 5 matches win percentage\n",
    "def calculate_win_percentage(team, date):\n",
    "    recent_matches = match_results[(match_results['date'] < date) & ((match_results['team1'] == team) | (match_results['team2'] == team))].tail(5)\n",
    "    wins = (recent_matches['winner'] == team).sum()\n",
    "    return wins / 5 if len(recent_matches) > 0 else 0\n",
    "\n",
    "matches['team1_last5_win_pct'] = matches.apply(lambda row: calculate_win_percentage(row['team1'], row['date']), axis=1)\n",
    "matches['team2_last5_win_pct'] = matches.apply(lambda row: calculate_win_percentage(row['team2'], row['date']), axis=1)\n"
   ]
  },
  {
   "cell_type": "code",
   "execution_count": null,
   "metadata": {
    "jupyter": {
     "source_hidden": true
    },
    "trusted": true
   },
   "outputs": [],
   "source": [
    "# Powerplay & Death Overs DataFrames\n",
    "powerplay = deliveries[(deliveries['over'] >= 1) & (deliveries['over'] <= 6)]\n",
    "death_overs = deliveries[(deliveries['over'] >= 16) & (deliveries['over'] <= 20)]\n",
    "\n",
    "# Function to compute average runs per match & team\n",
    "def team_phase_avg(df, phase_name):\n",
    "    phase_avg = df.groupby(['match_id', 'batting_team'])['total_runs'].mean().rename(f'{phase_name}_avg').reset_index()\n",
    "    return phase_avg\n",
    "\n",
    "# Compute Average Powerplay & Death Over Runs\n",
    "powerplay_avg = team_phase_avg(powerplay, 'powerplay')\n",
    "death_avg = team_phase_avg(death_overs, 'death')\n",
    "\n",
    "# Rename before merging to prevent column conflicts\n",
    "powerplay_avg_team1 = powerplay_avg.rename(columns={'batting_team': 'team1', 'powerplay_avg': 'team1_powerplay_avg'})\n",
    "powerplay_avg_team2 = powerplay_avg.rename(columns={'batting_team': 'team2', 'powerplay_avg': 'team2_powerplay_avg'})\n",
    "\n",
    "death_avg_team1 = death_avg.rename(columns={'batting_team': 'team1', 'death_avg': 'team1_death_avg'})\n",
    "death_avg_team2 = death_avg.rename(columns={'batting_team': 'team2', 'death_avg': 'team2_death_avg'})\n",
    "\n",
    "# Merge into matches dataset\n",
    "matches = matches.merge(powerplay_avg_team1, on=['id', 'team1'], how='left')\n",
    "matches = matches.merge(powerplay_avg_team2, on=['id', 'team2'], how='left')\n",
    "matches = matches.merge(death_avg_team1, on=['id', 'team1'], how='left')\n",
    "matches = matches.merge(death_avg_team2, on=['id', 'team2'], how='left')\n",
    "\n",
    "# Fill missing values with 0\n",
    "matches[['team1_powerplay_avg', 'team2_powerplay_avg', 'team1_death_avg', 'team2_death_avg']] = matches[\n",
    "    ['team1_powerplay_avg', 'team2_powerplay_avg', 'team1_death_avg', 'team2_death_avg']].fillna(0)\n"
   ]
  },
  {
   "cell_type": "code",
   "execution_count": 26,
   "metadata": {
    "execution": {
     "iopub.execute_input": "2025-03-23T16:20:16.663085Z",
     "iopub.status.busy": "2025-03-23T16:20:16.662740Z",
     "iopub.status.idle": "2025-03-23T16:20:16.669977Z",
     "shell.execute_reply": "2025-03-23T16:20:16.668370Z",
     "shell.execute_reply.started": "2025-03-23T16:20:16.663057Z"
    },
    "trusted": true
   },
   "outputs": [],
   "source": [
    "# Toss Impact\n",
    "matches['toss_win_bat'] = matches['toss_decision'].apply(lambda x: 1 if x == 'bat' else 0)"
   ]
  },
  {
   "cell_type": "code",
   "execution_count": 27,
   "metadata": {
    "execution": {
     "iopub.execute_input": "2025-03-23T16:20:19.183284Z",
     "iopub.status.busy": "2025-03-23T16:20:19.182899Z",
     "iopub.status.idle": "2025-03-23T16:20:19.210629Z",
     "shell.execute_reply": "2025-03-23T16:20:19.209447Z",
     "shell.execute_reply.started": "2025-03-23T16:20:19.183249Z"
    },
    "trusted": true
   },
   "outputs": [],
   "source": [
    "# Compute head-to-head win rate\n",
    "head_to_head = matches.groupby(['team1', 'team2'])['winner'].apply(lambda x: (x == x.name).mean()).reset_index(name='head_to_head_win_rate')\n",
    "\n",
    "# Merge with the matches dataframe\n",
    "matches = matches.merge(head_to_head, on=['team1', 'team2'], how='left')\n",
    "\n",
    "# Fill NaN values with 0.5 as default\n",
    "matches['head_to_head_win_rate'].fillna(0.5, inplace=True)\n"
   ]
  },
  {
   "cell_type": "code",
   "execution_count": 28,
   "metadata": {
    "execution": {
     "iopub.execute_input": "2025-03-23T16:20:22.263258Z",
     "iopub.status.busy": "2025-03-23T16:20:22.262932Z",
     "iopub.status.idle": "2025-03-23T16:20:22.269016Z",
     "shell.execute_reply": "2025-03-23T16:20:22.267773Z",
     "shell.execute_reply.started": "2025-03-23T16:20:22.263232Z"
    },
    "trusted": true
   },
   "outputs": [
    {
     "name": "stdout",
     "output_type": "stream",
     "text": [
      "Index(['id', 'season', 'city', 'date', 'match_type', 'player_of_match',\n",
      "       'venue', 'team1', 'team2', 'toss_winner', 'toss_decision', 'winner',\n",
      "       'result', 'result_margin', 'target_runs', 'target_overs', 'super_over',\n",
      "       'team1_win_percentage', 'team2_win_percentage', 'isTeam1Home',\n",
      "       'win_rate', 'team1_last5_win_pct', 'team2_last5_win_pct',\n",
      "       'toss_win_bat', 'head_to_head_win_rate'],\n",
      "      dtype='object')\n"
     ]
    }
   ],
   "source": [
    "print(matches.columns)"
   ]
  },
  {
   "cell_type": "code",
   "execution_count": 29,
   "metadata": {
    "execution": {
     "iopub.execute_input": "2025-03-23T16:20:24.588560Z",
     "iopub.status.busy": "2025-03-23T16:20:24.588196Z",
     "iopub.status.idle": "2025-03-23T16:20:24.598686Z",
     "shell.execute_reply": "2025-03-23T16:20:24.597435Z",
     "shell.execute_reply.started": "2025-03-23T16:20:24.588527Z"
    },
    "trusted": true
   },
   "outputs": [],
   "source": [
    "def add_advanced_features(df):\n",
    "    # Convert 'winner' to binary flags for both teams\n",
    "    df['team1_won'] = (df['winner'] == df['team1']).astype(int)\n",
    "    df['team2_won'] = (df['winner'] == df['team2']).astype(int)\n",
    "\n",
    "    # Rolling Win Percentage Over Last 10 Matches\n",
    "    df['team1_recent_form'] = df.groupby('team1')['team1_won'].transform(lambda x: x.rolling(10, min_periods=1).mean())\n",
    "    df['team2_recent_form'] = df.groupby('team2')['team2_won'].transform(lambda x: x.rolling(10, min_periods=1).mean())\n",
    "\n",
    "    # Win Streak (Last 5 Matches)\n",
    "    df['team1_win_streak'] = df.groupby('team1')['team1_won'].transform(lambda x: x.rolling(5, min_periods=1).sum())\n",
    "    df['team2_win_streak'] = df.groupby('team2')['team2_won'].transform(lambda x: x.rolling(5, min_periods=1).sum())\n",
    "\n",
    "    # Toss Impact (Win Rate After Toss Win)\n",
    "    df['team1_toss_win'] = (df['toss_winner'] == df['team1']).astype(int)\n",
    "    df['team2_toss_win'] = (df['toss_winner'] == df['team2']).astype(int)\n",
    "\n",
    "    df['team1_toss_win_success'] = df.groupby('team1')['team1_won'].transform(lambda x: x.rolling(10, min_periods=1).mean())\n",
    "    df['team2_toss_win_success'] = df.groupby('team2')['team2_won'].transform(lambda x: x.rolling(10, min_periods=1).mean())\n",
    "\n",
    "    # Net Run Rate (NRR) Difference - If NRR values exist in dataset\n",
    "    if 'team1_nrr' in df.columns and 'team2_nrr' in df.columns:\n",
    "        df['net_run_rate_diff'] = df['team1_nrr'] - df['team2_nrr']\n",
    "    \n",
    "    # Head-to-Head Record\n",
    "    df['team1_h2h_wins'] = df.groupby(['team1', 'team2'])['team1_won'].cumsum() - df['team1_won']\n",
    "    df['team2_h2h_wins'] = df.groupby(['team2', 'team1'])['team2_won'].cumsum() - df['team2_won']\n",
    "\n",
    "    # Home Advantage (if home_team column exists)\n",
    "    if 'home_team' in df.columns:\n",
    "        df['team1_home_advantage'] = (df['home_team'] == df['team1']).astype(int)\n",
    "        df['team2_home_advantage'] = (df['home_team'] == df['team2']).astype(int)\n",
    "    \n",
    "    return df"
   ]
  },
  {
   "cell_type": "code",
   "execution_count": 30,
   "metadata": {
    "execution": {
     "iopub.execute_input": "2025-03-23T16:20:27.743235Z",
     "iopub.status.busy": "2025-03-23T16:20:27.742872Z",
     "iopub.status.idle": "2025-03-23T16:20:27.789655Z",
     "shell.execute_reply": "2025-03-23T16:20:27.788690Z",
     "shell.execute_reply.started": "2025-03-23T16:20:27.743203Z"
    },
    "trusted": true
   },
   "outputs": [],
   "source": [
    "# Apply feature engineering\n",
    "matches = add_advanced_features(matches)"
   ]
  },
  {
   "cell_type": "code",
   "execution_count": 31,
   "metadata": {
    "execution": {
     "iopub.execute_input": "2025-03-23T16:20:29.903508Z",
     "iopub.status.busy": "2025-03-23T16:20:29.903150Z",
     "iopub.status.idle": "2025-03-23T16:20:29.909045Z",
     "shell.execute_reply": "2025-03-23T16:20:29.907860Z",
     "shell.execute_reply.started": "2025-03-23T16:20:29.903475Z"
    },
    "trusted": true
   },
   "outputs": [
    {
     "name": "stdout",
     "output_type": "stream",
     "text": [
      "Index(['id', 'season', 'city', 'date', 'match_type', 'player_of_match',\n",
      "       'venue', 'team1', 'team2', 'toss_winner', 'toss_decision', 'winner',\n",
      "       'result', 'result_margin', 'target_runs', 'target_overs', 'super_over',\n",
      "       'team1_win_percentage', 'team2_win_percentage', 'isTeam1Home',\n",
      "       'win_rate', 'team1_last5_win_pct', 'team2_last5_win_pct',\n",
      "       'toss_win_bat', 'head_to_head_win_rate', 'team1_won', 'team2_won',\n",
      "       'team1_recent_form', 'team2_recent_form', 'team1_win_streak',\n",
      "       'team2_win_streak', 'team1_toss_win', 'team2_toss_win',\n",
      "       'team1_toss_win_success', 'team2_toss_win_success', 'team1_h2h_wins',\n",
      "       'team2_h2h_wins'],\n",
      "      dtype='object')\n"
     ]
    }
   ],
   "source": [
    "print(matches.columns)"
   ]
  },
  {
   "cell_type": "code",
   "execution_count": 32,
   "metadata": {
    "execution": {
     "iopub.execute_input": "2025-03-23T16:20:34.028379Z",
     "iopub.status.busy": "2025-03-23T16:20:34.028018Z",
     "iopub.status.idle": "2025-03-23T16:20:34.044093Z",
     "shell.execute_reply": "2025-03-23T16:20:34.042685Z",
     "shell.execute_reply.started": "2025-03-23T16:20:34.028347Z"
    },
    "trusted": true
   },
   "outputs": [],
   "source": [
    "# Select only the required columns\n",
    "df_selected = matches[['id', 'season', 'city', 'date', 'match_type', \n",
    "                  'venue', 'team1', 'team2', 'toss_winner', 'winner']]\n",
    "\n",
    "# Save the new dataset\n",
    "df_selected.to_csv(\"filtered_matches.csv\", index=False)"
   ]
  },
  {
   "cell_type": "code",
   "execution_count": 33,
   "metadata": {
    "execution": {
     "iopub.execute_input": "2025-03-23T16:20:36.503325Z",
     "iopub.status.busy": "2025-03-23T16:20:36.502958Z",
     "iopub.status.idle": "2025-03-23T16:20:36.507756Z",
     "shell.execute_reply": "2025-03-23T16:20:36.506783Z",
     "shell.execute_reply.started": "2025-03-23T16:20:36.503293Z"
    },
    "trusted": true
   },
   "outputs": [],
   "source": [
    "features = [\n",
    "    'team1', 'team2', 'team1_win_percentage', 'team2_win_percentage', 'isTeam1Home', \n",
    "    'team1_last5_win_pct', 'team2_last5_win_pct', 'team1_recent_form', 'team2_recent_form', \n",
    "    'team1_win_streak','team2_win_streak', 'team1_toss_win', 'team2_toss_win',\n",
    "    'team1_toss_win_success', 'team2_toss_win_success', 'team1_h2h_wins','team2_h2h_wins']"
   ]
  },
  {
   "cell_type": "code",
   "execution_count": 34,
   "metadata": {
    "execution": {
     "iopub.execute_input": "2025-03-23T16:20:39.423508Z",
     "iopub.status.busy": "2025-03-23T16:20:39.423178Z",
     "iopub.status.idle": "2025-03-23T16:20:39.429789Z",
     "shell.execute_reply": "2025-03-23T16:20:39.428573Z",
     "shell.execute_reply.started": "2025-03-23T16:20:39.423482Z"
    },
    "trusted": true
   },
   "outputs": [],
   "source": [
    "# Feature Engineering for Prediction\n",
    "X = matches[features]\n",
    "y = matches['winner']"
   ]
  },
  {
   "cell_type": "code",
   "execution_count": null,
   "metadata": {
    "trusted": true
   },
   "outputs": [],
   "source": [
    "X = pd.get_dummies(X, drop_first=True)\n",
    "scaler = StandardScaler()\n",
    "X = scaler.fit_transform(X)"
   ]
  },
  {
   "cell_type": "code",
   "execution_count": 35,
   "metadata": {
    "execution": {
     "iopub.execute_input": "2025-03-23T16:20:42.303323Z",
     "iopub.status.busy": "2025-03-23T16:20:42.302969Z",
     "iopub.status.idle": "2025-03-23T16:20:42.313195Z",
     "shell.execute_reply": "2025-03-23T16:20:42.311711Z",
     "shell.execute_reply.started": "2025-03-23T16:20:42.303294Z"
    },
    "trusted": true
   },
   "outputs": [],
   "source": [
    "# Train-Test Split\n",
    "X_train, X_test, y_train, y_test = train_test_split(X, y, test_size=0.2, random_state=42)"
   ]
  },
  {
   "cell_type": "code",
   "execution_count": 36,
   "metadata": {
    "execution": {
     "iopub.execute_input": "2025-03-23T16:20:46.849061Z",
     "iopub.status.busy": "2025-03-23T16:20:46.848529Z",
     "iopub.status.idle": "2025-03-23T16:20:46.855322Z",
     "shell.execute_reply": "2025-03-23T16:20:46.853201Z",
     "shell.execute_reply.started": "2025-03-23T16:20:46.849014Z"
    },
    "trusted": true
   },
   "outputs": [],
   "source": [
    "expected_features = X_train.columns"
   ]
  },
  {
   "cell_type": "code",
   "execution_count": null,
   "metadata": {
    "jupyter": {
     "source_hidden": true
    },
    "trusted": true
   },
   "outputs": [],
   "source": [
    "import optuna\n",
    "from sklearn.ensemble import RandomForestClassifier\n",
    "from sklearn.metrics import accuracy_score\n",
    "\n",
    "# Define the objective function\n",
    "def objective(trial):\n",
    "    # Hyperparameters to tune\n",
    "    n_estimators = trial.suggest_int(\"n_estimators\", 50, 300, step=50)\n",
    "    max_depth = trial.suggest_int(\"max_depth\", 5, 50, step=5)\n",
    "    min_samples_split = trial.suggest_int(\"min_samples_split\", 2, 10)\n",
    "    min_samples_leaf = trial.suggest_int(\"min_samples_leaf\", 1, 10)\n",
    "    max_features = trial.suggest_categorical(\"max_features\", [\"sqrt\", \"log2\", None])\n",
    "\n",
    "    # Train model with selected hyperparameters\n",
    "    rf = RandomForestClassifier(\n",
    "        n_estimators=n_estimators,\n",
    "        max_depth=max_depth,\n",
    "        min_samples_split=min_samples_split,\n",
    "        min_samples_leaf=min_samples_leaf,\n",
    "        max_features=max_features,\n",
    "        random_state=42,\n",
    "        n_jobs=-1\n",
    "    )\n",
    "    \n",
    "    rf.fit(X_train, y_train)\n",
    "    y_pred = rf.predict(X_test)\n",
    "    \n",
    "    # Return accuracy as the objective metric\n",
    "    return accuracy_score(y_test, y_pred)\n",
    "\n",
    "# Run Optuna hyperparameter optimization\n",
    "study = optuna.create_study(direction=\"maximize\")\n",
    "study.optimize(objective, n_trials=30)\n",
    "\n",
    "# Get best hyperparameters\n",
    "best_params = study.best_params\n",
    "print(\"Best Hyperparameters:\", best_params)\n",
    "\n",
    "# Train final model with best parameters\n",
    "best_rf = RandomForestClassifier(**best_params, random_state=42, n_jobs=-1)\n",
    "best_rf.fit(X_train, y_train)\n",
    "y_pred_best_rf = best_rf.predict(X_test)\n",
    "\n",
    "# Evaluate the optimized model\n",
    "print(\"Optimized Random Forest Accuracy:\", accuracy_score(y_test, y_pred_best_rf))\n"
   ]
  },
  {
   "cell_type": "code",
   "execution_count": null,
   "metadata": {
    "jupyter": {
     "source_hidden": true
    },
    "trusted": true
   },
   "outputs": [],
   "source": [
    "import optuna\n",
    "from sklearn.ensemble import RandomForestClassifier\n",
    "from sklearn.metrics import accuracy_score\n",
    "\n",
    "# Define the objective function\n",
    "def objective(trial):\n",
    "    # Hyperparameters to tune\n",
    "    n_estimators = trial.suggest_int(\"n_estimators\", 50, 300, step=50)\n",
    "    max_depth = trial.suggest_int(\"max_depth\", 5, 50, step=5)\n",
    "    min_samples_split = trial.suggest_int(\"min_samples_split\", 2, 10)\n",
    "    min_samples_leaf = trial.suggest_int(\"min_samples_leaf\", 1, 10)\n",
    "    max_features = trial.suggest_categorical(\"max_features\", [\"sqrt\", \"log2\", None])\n",
    "\n",
    "    # Train model with selected hyperparameters\n",
    "    rf = RandomForestClassifier(\n",
    "        n_estimators=n_estimators,\n",
    "        max_depth=max_depth,\n",
    "        min_samples_split=min_samples_split,\n",
    "        min_samples_leaf=min_samples_leaf,\n",
    "        max_features=max_features,\n",
    "        random_state=42,\n",
    "        n_jobs=-1\n",
    "    )\n",
    "    \n",
    "    rf.fit(X_train, y_train)\n",
    "    y_pred = rf.predict(X_test)\n",
    "    \n",
    "    # Return accuracy as the objective metric\n",
    "    return accuracy_score(y_test, y_pred)\n",
    "\n",
    "# Run Optuna hyperparameter optimization\n",
    "study = optuna.create_study(direction=\"maximize\")\n",
    "study.optimize(objective, n_trials=30)\n",
    "\n",
    "# Get best hyperparameters\n",
    "best_params = study.best_params\n",
    "print(\"Best Hyperparameters:\", best_params)\n",
    "\n",
    "# Train final model with best parameters\n",
    "best_rf = RandomForestClassifier(**best_params, random_state=42, n_jobs=-1)\n",
    "best_rf.fit(X_train, y_train)\n",
    "y_pred_best_rf = best_rf.predict(X_test)\n",
    "\n",
    "# Evaluate the optimized model\n",
    "print(\"Optimized Random Forest Accuracy:\", accuracy_score(y_test, y_pred_best_rf))\n"
   ]
  },
  {
   "cell_type": "code",
   "execution_count": 38,
   "metadata": {
    "execution": {
     "iopub.execute_input": "2025-03-23T16:23:08.384342Z",
     "iopub.status.busy": "2025-03-23T16:23:08.383968Z",
     "iopub.status.idle": "2025-03-23T16:23:37.766160Z",
     "shell.execute_reply": "2025-03-23T16:23:37.765000Z",
     "shell.execute_reply.started": "2025-03-23T16:23:08.384313Z"
    },
    "trusted": true
   },
   "outputs": [
    {
     "name": "stderr",
     "output_type": "stream",
     "text": [
      "[I 2025-03-23 16:23:08,407] A new study created in memory with name: no-name-ee921ca5-694c-4996-9865-7d4e0d38da4a\n",
      "[I 2025-03-23 16:23:10,192] Trial 0 finished with value: 0.6919191919191919 and parameters: {'n_estimators': 500, 'learning_rate': 0.01, 'max_depth': 16, 'subsample': 0.8, 'colsample_bytree': 0.7, 'min_child_weight': 5, 'gamma': 0.2, 'reg_alpha': 0.1, 'reg_lambda': 0.9}. Best is trial 0 with value: 0.6919191919191919.\n",
      "[I 2025-03-23 16:23:10,803] Trial 1 finished with value: 0.6161616161616161 and parameters: {'n_estimators': 400, 'learning_rate': 0.28, 'max_depth': 20, 'subsample': 0.8, 'colsample_bytree': 0.9, 'min_child_weight': 5, 'gamma': 0.30000000000000004, 'reg_alpha': 0.9, 'reg_lambda': 0.6000000000000001}. Best is trial 0 with value: 0.6919191919191919.\n",
      "[I 2025-03-23 16:23:11,054] Trial 2 finished with value: 0.6313131313131313 and parameters: {'n_estimators': 100, 'learning_rate': 0.18000000000000002, 'max_depth': 8, 'subsample': 0.5, 'colsample_bytree': 0.7, 'min_child_weight': 7, 'gamma': 0.4, 'reg_alpha': 0.0, 'reg_lambda': 0.8}. Best is trial 0 with value: 0.6919191919191919.\n",
      "[I 2025-03-23 16:23:11,946] Trial 3 finished with value: 0.6868686868686869 and parameters: {'n_estimators': 500, 'learning_rate': 0.26, 'max_depth': 18, 'subsample': 0.7, 'colsample_bytree': 1.0, 'min_child_weight': 1, 'gamma': 0.1, 'reg_alpha': 0.4, 'reg_lambda': 0.9}. Best is trial 0 with value: 0.6919191919191919.\n",
      "[I 2025-03-23 16:23:12,378] Trial 4 finished with value: 0.6767676767676768 and parameters: {'n_estimators': 200, 'learning_rate': 0.27, 'max_depth': 11, 'subsample': 0.6, 'colsample_bytree': 0.8, 'min_child_weight': 2, 'gamma': 0.2, 'reg_alpha': 0.1, 'reg_lambda': 0.5}. Best is trial 0 with value: 0.6919191919191919.\n",
      "[I 2025-03-23 16:23:12,968] Trial 5 finished with value: 0.6616161616161617 and parameters: {'n_estimators': 300, 'learning_rate': 0.25, 'max_depth': 7, 'subsample': 0.7, 'colsample_bytree': 0.7, 'min_child_weight': 4, 'gamma': 0.30000000000000004, 'reg_alpha': 0.4, 'reg_lambda': 0.9}. Best is trial 0 with value: 0.6919191919191919.\n",
      "[I 2025-03-23 16:23:13,240] Trial 6 finished with value: 0.6818181818181818 and parameters: {'n_estimators': 100, 'learning_rate': 0.12, 'max_depth': 13, 'subsample': 0.7, 'colsample_bytree': 0.7, 'min_child_weight': 2, 'gamma': 0.4, 'reg_alpha': 0.9, 'reg_lambda': 0.5}. Best is trial 0 with value: 0.6919191919191919.\n",
      "[I 2025-03-23 16:23:13,993] Trial 7 finished with value: 0.6717171717171717 and parameters: {'n_estimators': 350, 'learning_rate': 0.19, 'max_depth': 15, 'subsample': 1.0, 'colsample_bytree': 0.9, 'min_child_weight': 4, 'gamma': 0.0, 'reg_alpha': 0.9, 'reg_lambda': 0.30000000000000004}. Best is trial 0 with value: 0.6919191919191919.\n",
      "[I 2025-03-23 16:23:14,652] Trial 8 finished with value: 0.6515151515151515 and parameters: {'n_estimators': 350, 'learning_rate': 0.17, 'max_depth': 8, 'subsample': 0.7, 'colsample_bytree': 0.6, 'min_child_weight': 8, 'gamma': 0.2, 'reg_alpha': 0.7000000000000001, 'reg_lambda': 0.4}. Best is trial 0 with value: 0.6919191919191919.\n",
      "[I 2025-03-23 16:23:14,821] Trial 9 finished with value: 0.6616161616161617 and parameters: {'n_estimators': 50, 'learning_rate': 0.19, 'max_depth': 10, 'subsample': 0.9, 'colsample_bytree': 0.5, 'min_child_weight': 4, 'gamma': 0.30000000000000004, 'reg_alpha': 0.1, 'reg_lambda': 0.1}. Best is trial 0 with value: 0.6919191919191919.\n",
      "[I 2025-03-23 16:23:16,350] Trial 10 finished with value: 0.6414141414141414 and parameters: {'n_estimators': 500, 'learning_rate': 0.01, 'max_depth': 15, 'subsample': 0.9, 'colsample_bytree': 0.5, 'min_child_weight': 9, 'gamma': 0.5, 'reg_alpha': 0.30000000000000004, 'reg_lambda': 1.0}. Best is trial 0 with value: 0.6919191919191919.\n",
      "[I 2025-03-23 16:23:19,015] Trial 11 finished with value: 0.702020202020202 and parameters: {'n_estimators': 500, 'learning_rate': 0.01, 'max_depth': 20, 'subsample': 0.8, 'colsample_bytree': 1.0, 'min_child_weight': 1, 'gamma': 0.0, 'reg_alpha': 0.6000000000000001, 'reg_lambda': 0.7000000000000001}. Best is trial 11 with value: 0.702020202020202.\n",
      "[I 2025-03-23 16:23:20,233] Trial 12 finished with value: 0.6616161616161617 and parameters: {'n_estimators': 450, 'learning_rate': 0.01, 'max_depth': 3, 'subsample': 0.8, 'colsample_bytree': 1.0, 'min_child_weight': 7, 'gamma': 0.0, 'reg_alpha': 0.6000000000000001, 'reg_lambda': 0.7000000000000001}. Best is trial 11 with value: 0.702020202020202.\n",
      "[I 2025-03-23 16:23:21,245] Trial 13 finished with value: 0.6818181818181818 and parameters: {'n_estimators': 450, 'learning_rate': 0.06999999999999999, 'max_depth': 20, 'subsample': 0.9, 'colsample_bytree': 0.8, 'min_child_weight': 1, 'gamma': 0.1, 'reg_alpha': 0.7000000000000001, 'reg_lambda': 0.7000000000000001}. Best is trial 11 with value: 0.702020202020202.\n",
      "[I 2025-03-23 16:23:21,924] Trial 14 finished with value: 0.6717171717171717 and parameters: {'n_estimators': 200, 'learning_rate': 0.060000000000000005, 'max_depth': 17, 'subsample': 1.0, 'colsample_bytree': 0.6, 'min_child_weight': 6, 'gamma': 0.1, 'reg_alpha': 0.2, 'reg_lambda': 1.0}. Best is trial 11 with value: 0.702020202020202.\n",
      "[I 2025-03-23 16:23:23,220] Trial 15 finished with value: 0.6464646464646465 and parameters: {'n_estimators': 500, 'learning_rate': 0.060000000000000005, 'max_depth': 17, 'subsample': 0.8, 'colsample_bytree': 0.9, 'min_child_weight': 10, 'gamma': 0.0, 'reg_alpha': 0.5, 'reg_lambda': 0.8}. Best is trial 11 with value: 0.702020202020202.\n",
      "[I 2025-03-23 16:23:24,143] Trial 16 finished with value: 0.6565656565656566 and parameters: {'n_estimators': 400, 'learning_rate': 0.09999999999999999, 'max_depth': 14, 'subsample': 0.5, 'colsample_bytree': 0.6, 'min_child_weight': 3, 'gamma': 0.2, 'reg_alpha': 0.7000000000000001, 'reg_lambda': 0.2}. Best is trial 11 with value: 0.702020202020202.\n",
      "[I 2025-03-23 16:23:24,902] Trial 17 finished with value: 0.6666666666666666 and parameters: {'n_estimators': 250, 'learning_rate': 0.03, 'max_depth': 18, 'subsample': 0.6, 'colsample_bytree': 0.8, 'min_child_weight': 6, 'gamma': 0.1, 'reg_alpha': 0.5, 'reg_lambda': 0.7000000000000001}. Best is trial 11 with value: 0.702020202020202.\n",
      "[I 2025-03-23 16:23:27,461] Trial 18 finished with value: 0.7070707070707071 and parameters: {'n_estimators': 450, 'learning_rate': 0.13, 'max_depth': 20, 'subsample': 0.9, 'colsample_bytree': 1.0, 'min_child_weight': 3, 'gamma': 0.5, 'reg_alpha': 0.30000000000000004, 'reg_lambda': 0.9}. Best is trial 18 with value: 0.7070707070707071.\n",
      "[I 2025-03-23 16:23:28,154] Trial 19 finished with value: 0.6919191919191919 and parameters: {'n_estimators': 400, 'learning_rate': 0.13, 'max_depth': 20, 'subsample': 0.9, 'colsample_bytree': 1.0, 'min_child_weight': 2, 'gamma': 0.5, 'reg_alpha': 0.30000000000000004, 'reg_lambda': 0.0}. Best is trial 18 with value: 0.7070707070707071.\n",
      "[I 2025-03-23 16:23:28,744] Trial 20 finished with value: 0.6767676767676768 and parameters: {'n_estimators': 450, 'learning_rate': 0.22, 'max_depth': 4, 'subsample': 1.0, 'colsample_bytree': 0.9, 'min_child_weight': 3, 'gamma': 0.4, 'reg_alpha': 0.30000000000000004, 'reg_lambda': 0.5}. Best is trial 18 with value: 0.7070707070707071.\n",
      "[I 2025-03-23 16:23:29,655] Trial 21 finished with value: 0.6868686868686869 and parameters: {'n_estimators': 500, 'learning_rate': 0.08, 'max_depth': 18, 'subsample': 0.8, 'colsample_bytree': 1.0, 'min_child_weight': 3, 'gamma': 0.5, 'reg_alpha': 0.0, 'reg_lambda': 0.9}. Best is trial 18 with value: 0.7070707070707071.\n",
      "[I 2025-03-23 16:23:30,960] Trial 22 finished with value: 0.6919191919191919 and parameters: {'n_estimators': 450, 'learning_rate': 0.04, 'max_depth': 16, 'subsample': 0.9, 'colsample_bytree': 0.9, 'min_child_weight': 5, 'gamma': 0.2, 'reg_alpha': 0.2, 'reg_lambda': 0.8}. Best is trial 18 with value: 0.7070707070707071.\n",
      "[I 2025-03-23 16:23:31,622] Trial 23 finished with value: 0.6818181818181818 and parameters: {'n_estimators': 350, 'learning_rate': 0.13, 'max_depth': 19, 'subsample': 0.8, 'colsample_bytree': 1.0, 'min_child_weight': 1, 'gamma': 0.4, 'reg_alpha': 0.2, 'reg_lambda': 1.0}. Best is trial 18 with value: 0.7070707070707071.\n",
      "[I 2025-03-23 16:23:33,773] Trial 24 finished with value: 0.6818181818181818 and parameters: {'n_estimators': 500, 'learning_rate': 0.04, 'max_depth': 16, 'subsample': 0.9, 'colsample_bytree': 0.8, 'min_child_weight': 2, 'gamma': 0.0, 'reg_alpha': 0.6000000000000001, 'reg_lambda': 0.8}. Best is trial 18 with value: 0.7070707070707071.\n",
      "[I 2025-03-23 16:23:34,575] Trial 25 finished with value: 0.6767676767676768 and parameters: {'n_estimators': 400, 'learning_rate': 0.09999999999999999, 'max_depth': 13, 'subsample': 0.8, 'colsample_bytree': 0.7, 'min_child_weight': 3, 'gamma': 0.30000000000000004, 'reg_alpha': 0.4, 'reg_lambda': 0.6000000000000001}. Best is trial 18 with value: 0.7070707070707071.\n",
      "[I 2025-03-23 16:23:35,532] Trial 26 finished with value: 0.6363636363636364 and parameters: {'n_estimators': 450, 'learning_rate': 0.3, 'max_depth': 19, 'subsample': 0.6, 'colsample_bytree': 0.9, 'min_child_weight': 5, 'gamma': 0.1, 'reg_alpha': 0.1, 'reg_lambda': 0.9}. Best is trial 18 with value: 0.7070707070707071.\n",
      "[I 2025-03-23 16:23:36,147] Trial 27 finished with value: 0.7070707070707071 and parameters: {'n_estimators': 300, 'learning_rate': 0.15000000000000002, 'max_depth': 17, 'subsample': 1.0, 'colsample_bytree': 1.0, 'min_child_weight': 4, 'gamma': 0.2, 'reg_alpha': 0.5, 'reg_lambda': 0.6000000000000001}. Best is trial 18 with value: 0.7070707070707071.\n",
      "[I 2025-03-23 16:23:36,625] Trial 28 finished with value: 0.7070707070707071 and parameters: {'n_estimators': 300, 'learning_rate': 0.15000000000000002, 'max_depth': 19, 'subsample': 1.0, 'colsample_bytree': 1.0, 'min_child_weight': 4, 'gamma': 0.4, 'reg_alpha': 0.8, 'reg_lambda': 0.6000000000000001}. Best is trial 18 with value: 0.7070707070707071.\n",
      "[I 2025-03-23 16:23:37,081] Trial 29 finished with value: 0.6818181818181818 and parameters: {'n_estimators': 250, 'learning_rate': 0.15000000000000002, 'max_depth': 17, 'subsample': 1.0, 'colsample_bytree': 1.0, 'min_child_weight': 4, 'gamma': 0.5, 'reg_alpha': 1.0, 'reg_lambda': 0.4}. Best is trial 18 with value: 0.7070707070707071.\n"
     ]
    },
    {
     "name": "stdout",
     "output_type": "stream",
     "text": [
      "Best Hyperparameters: {'n_estimators': 450, 'learning_rate': 0.13, 'max_depth': 20, 'subsample': 0.9, 'colsample_bytree': 1.0, 'min_child_weight': 3, 'gamma': 0.5, 'reg_alpha': 0.30000000000000004, 'reg_lambda': 0.9}\n",
      "Optimized XGBoost Accuracy: 0.7070707070707071\n"
     ]
    }
   ],
   "source": [
    "import pandas as pd\n",
    "import numpy as np\n",
    "import optuna\n",
    "from xgboost import XGBClassifier\n",
    "from sklearn.model_selection import train_test_split\n",
    "from sklearn.preprocessing import LabelEncoder, StandardScaler\n",
    "from sklearn.metrics import accuracy_score\n",
    "\n",
    "# Define features\n",
    "features = [\n",
    "    'team1', 'team2', 'team1_win_percentage', 'team2_win_percentage', 'isTeam1Home', \n",
    "    'team1_last5_win_pct', 'team2_last5_win_pct', 'team1_recent_form', 'team2_recent_form', \n",
    "    'team1_win_streak', 'team2_win_streak', 'team1_toss_win', 'team2_toss_win',\n",
    "    'team1_toss_win_success', 'team2_toss_win_success', 'team1_h2h_wins', 'team2_h2h_wins'\n",
    "]\n",
    "\n",
    "# Feature Engineering for Prediction\n",
    "X = matches[features].copy()\n",
    "y = matches['winner']\n",
    "\n",
    "# 1️⃣ Label Encode Categorical Variables (team1, team2)\n",
    "label_encoder_teams = LabelEncoder()\n",
    "X['team1'] = label_encoder_teams.fit_transform(X['team1'])\n",
    "X['team2'] = label_encoder_teams.transform(X['team2'])\n",
    "\n",
    "# 2️⃣ Standardize Numerical Features (Optional)\n",
    "num_features = ['team1_win_percentage', 'team2_win_percentage', 'team1_recent_form', 'team2_recent_form']\n",
    "scaler = StandardScaler()\n",
    "X[num_features] = scaler.fit_transform(X[num_features])\n",
    "\n",
    "# 3️⃣ Encode Target Variable (Winner)\n",
    "label_encoder_winner = LabelEncoder()\n",
    "y_encoded = label_encoder_winner.fit_transform(y)\n",
    "\n",
    "# 4️⃣ Train-Test Split\n",
    "X_train, X_test, y_train, y_test = train_test_split(X, y_encoded, test_size=0.2, random_state=42)\n",
    "\n",
    "# Define the objective function for Optuna\n",
    "def objective(trial):\n",
    "    params = {\n",
    "        \"n_estimators\": trial.suggest_int(\"n_estimators\", 50, 500, step=50),\n",
    "        \"learning_rate\": trial.suggest_float(\"learning_rate\", 0.01, 0.3, step=0.01),\n",
    "        \"max_depth\": trial.suggest_int(\"max_depth\", 3, 20, step=1),\n",
    "        \"subsample\": trial.suggest_float(\"subsample\", 0.5, 1.0, step=0.1),\n",
    "        \"colsample_bytree\": trial.suggest_float(\"colsample_bytree\", 0.5, 1.0, step=0.1),\n",
    "        \"min_child_weight\": trial.suggest_int(\"min_child_weight\", 1, 10),\n",
    "        \"gamma\": trial.suggest_float(\"gamma\", 0, 0.5, step=0.1),\n",
    "        \"reg_alpha\": trial.suggest_float(\"reg_alpha\", 0, 1, step=0.1),\n",
    "        \"reg_lambda\": trial.suggest_float(\"reg_lambda\", 0, 1, step=0.1)\n",
    "    }\n",
    "\n",
    "    # Train model with selected hyperparameters\n",
    "    xgb = XGBClassifier(**params, random_state=42, use_label_encoder=False, eval_metric=\"logloss\")\n",
    "    xgb.fit(X_train, y_train)\n",
    "\n",
    "    # Predict on validation set\n",
    "    y_pred = xgb.predict(X_test)\n",
    "    \n",
    "    return accuracy_score(y_test, y_pred)\n",
    "\n",
    "# Run Optuna optimization\n",
    "study = optuna.create_study(direction=\"maximize\")\n",
    "study.optimize(objective, n_trials=30)\n",
    "\n",
    "# Get best hyperparameters\n",
    "best_params = study.best_params\n",
    "print(\"Best Hyperparameters:\", best_params)\n",
    "\n",
    "# Train final XGBoost model with best parameters\n",
    "best_xgb = XGBClassifier(**best_params, random_state=42, use_label_encoder=False, eval_metric=\"logloss\")\n",
    "best_xgb.fit(X_train, y_train)\n",
    "\n",
    "# Predict and evaluate\n",
    "y_pred_best_xgb = best_xgb.predict(X_test)\n",
    "y_pred_best_xgb_decoded = label_encoder_winner.inverse_transform(y_pred_best_xgb)  # Convert back to team names\n",
    "\n",
    "print(\"Optimized XGBoost Accuracy:\", accuracy_score(y_test, y_pred_best_xgb))"
   ]
  },
  {
   "cell_type": "code",
   "execution_count": 39,
   "metadata": {
    "execution": {
     "iopub.execute_input": "2025-03-23T16:25:00.863323Z",
     "iopub.status.busy": "2025-03-23T16:25:00.862965Z",
     "iopub.status.idle": "2025-03-23T16:25:00.871890Z",
     "shell.execute_reply": "2025-03-23T16:25:00.870752Z",
     "shell.execute_reply.started": "2025-03-23T16:25:00.863296Z"
    },
    "trusted": true
   },
   "outputs": [
    {
     "name": "stdout",
     "output_type": "stream",
     "text": [
      "Best model parameters: {'objective': 'multi:softprob', 'base_score': None, 'booster': None, 'callbacks': None, 'colsample_bylevel': None, 'colsample_bynode': None, 'colsample_bytree': 1.0, 'device': None, 'early_stopping_rounds': None, 'enable_categorical': False, 'eval_metric': 'logloss', 'feature_types': None, 'gamma': 0.5, 'grow_policy': None, 'importance_type': None, 'interaction_constraints': None, 'learning_rate': 0.13, 'max_bin': None, 'max_cat_threshold': None, 'max_cat_to_onehot': None, 'max_delta_step': None, 'max_depth': 20, 'max_leaves': None, 'min_child_weight': 3, 'missing': nan, 'monotone_constraints': None, 'multi_strategy': None, 'n_estimators': 450, 'n_jobs': None, 'num_parallel_tree': None, 'random_state': 42, 'reg_alpha': 0.30000000000000004, 'reg_lambda': 0.9, 'sampling_method': None, 'scale_pos_weight': None, 'subsample': 0.9, 'tree_method': None, 'validate_parameters': None, 'verbosity': None, 'use_label_encoder': False}\n",
      "Number of trees: 450\n",
      "Feature importance: [0.17412843 0.17594394 0.12503935 0.12398314 0.03174148 0.02420741\n",
      " 0.03206723 0.04119154 0.03774984 0.06622981 0.0625692  0.02757915\n",
      " 0.         0.         0.         0.04417589 0.03339355]\n"
     ]
    }
   ],
   "source": [
    "print(\"Best model parameters:\", best_xgb.get_params())\n",
    "print(\"Number of trees:\", best_xgb.n_estimators)\n",
    "print(\"Feature importance:\", best_xgb.feature_importances_)"
   ]
  },
  {
   "cell_type": "code",
   "execution_count": null,
   "metadata": {
    "trusted": true
   },
   "outputs": [],
   "source": [
    "print(type(best_xgb))"
   ]
  },
  {
   "cell_type": "code",
   "execution_count": null,
   "metadata": {
    "trusted": true
   },
   "outputs": [],
   "source": [
    "from sklearn.exceptions import NotFittedError\n",
    "\n",
    "try:\n",
    "    print(best_xgb.get_booster())\n",
    "except NotFittedError:\n",
    "    print(\"Model is not fitted yet.\")"
   ]
  },
  {
   "cell_type": "code",
   "execution_count": null,
   "metadata": {
    "trusted": true
   },
   "outputs": [],
   "source": [
    "import joblib\n",
    "\n",
    "# Save the trained model\n",
    "joblib.dump(best_xgb, \"best_xgb_model.pkl\")\n",
    "print(\"Model saved successfully!\")"
   ]
  },
  {
   "cell_type": "code",
   "execution_count": null,
   "metadata": {
    "jupyter": {
     "source_hidden": true
    },
    "trusted": true
   },
   "outputs": [],
   "source": [
    "import optuna\n",
    "from xgboost import XGBClassifier\n",
    "from sklearn.metrics import accuracy_score\n",
    "from sklearn.preprocessing import LabelEncoder\n",
    "\n",
    "# Encode target variable\n",
    "label_encoder = LabelEncoder()\n",
    "y_train_encoded = label_encoder.fit_transform(y_train)\n",
    "y_test_encoded = label_encoder.transform(y_test)\n",
    "\n",
    "# Define the objective function for Optuna\n",
    "def objective(trial):\n",
    "    params = {\n",
    "        \"n_estimators\": trial.suggest_int(\"n_estimators\", 50, 500, step=50),\n",
    "        \"learning_rate\": trial.suggest_float(\"learning_rate\", 0.01, 0.3, step=0.01),\n",
    "        \"max_depth\": trial.suggest_int(\"max_depth\", 3, 20, step=1),\n",
    "        \"subsample\": trial.suggest_float(\"subsample\", 0.5, 1.0, step=0.1),\n",
    "        \"colsample_bytree\": trial.suggest_float(\"colsample_bytree\", 0.5, 1.0, step=0.1),\n",
    "        \"min_child_weight\": trial.suggest_int(\"min_child_weight\", 1, 10),\n",
    "        \"gamma\": trial.suggest_float(\"gamma\", 0, 0.5, step=0.1),\n",
    "        \"reg_alpha\": trial.suggest_float(\"reg_alpha\", 0, 1, step=0.1),\n",
    "        \"reg_lambda\": trial.suggest_float(\"reg_lambda\", 0, 1, step=0.1)\n",
    "    }\n",
    "\n",
    "    # Train model with selected hyperparameters\n",
    "    xgb = XGBClassifier(**params, random_state=42, use_label_encoder=False, eval_metric=\"logloss\")\n",
    "    xgb.fit(X_train, y_train_encoded)\n",
    "\n",
    "    # Predict on validation set\n",
    "    y_pred = xgb.predict(X_test)\n",
    "    \n",
    "    return accuracy_score(y_test_encoded, y_pred)\n",
    "\n",
    "# Run Optuna optimization\n",
    "study = optuna.create_study(direction=\"maximize\")\n",
    "study.optimize(objective, n_trials=30)\n",
    "\n",
    "# Get best hyperparameters\n",
    "best_params = study.best_params\n",
    "print(\"Best Hyperparameters:\", best_params)\n",
    "\n",
    "# Train final XGBoost model with best parameters\n",
    "best_xgb = XGBClassifier(**best_params, random_state=42, use_label_encoder=False, eval_metric=\"logloss\")\n",
    "best_xgb.fit(X_train, y_train_encoded)\n",
    "\n",
    "# Predict and evaluate\n",
    "y_pred_best_xgb = best_xgb.predict(X_test)\n",
    "y_pred_best_xgb_decoded = label_encoder.inverse_transform(y_pred_best_xgb)  # Convert back to team names\n",
    "\n",
    "print(\"Optimized XGBoost Accuracy:\", accuracy_score(y_test_encoded, y_pred_best_xgb))\n"
   ]
  },
  {
   "cell_type": "code",
   "execution_count": null,
   "metadata": {
    "jupyter": {
     "source_hidden": true
    },
    "trusted": true
   },
   "outputs": [],
   "source": [
    "import optuna\n",
    "from sklearn.ensemble import VotingClassifier, RandomForestClassifier\n",
    "from xgboost import XGBClassifier\n",
    "from sklearn.metrics import accuracy_score\n",
    "from sklearn.preprocessing import LabelEncoder\n",
    "\n",
    "# Encode target variable\n",
    "label_encoder = LabelEncoder()\n",
    "y_train_encoded = label_encoder.fit_transform(y_train)\n",
    "y_test_encoded = label_encoder.transform(y_test)\n",
    "\n",
    "# Optuna objective function for hyperparameter tuning\n",
    "def objective(trial):\n",
    "    # Random Forest parameters\n",
    "    rf_params = {\n",
    "        \"n_estimators\": trial.suggest_int(\"rf_n_estimators\", 50, 500, step=50),\n",
    "        \"max_depth\": trial.suggest_int(\"rf_max_depth\", 5, 30, step=1),\n",
    "        \"min_samples_split\": trial.suggest_int(\"rf_min_samples_split\", 2, 10),\n",
    "        \"min_samples_leaf\": trial.suggest_int(\"rf_min_samples_leaf\", 1, 10),\n",
    "        \"bootstrap\": trial.suggest_categorical(\"rf_bootstrap\", [True, False]),\n",
    "    }\n",
    "\n",
    "    # XGBoost parameters\n",
    "    xgb_params = {\n",
    "        \"n_estimators\": trial.suggest_int(\"xgb_n_estimators\", 50, 500, step=50),\n",
    "        \"learning_rate\": trial.suggest_float(\"xgb_learning_rate\", 0.01, 0.3, step=0.01),\n",
    "        \"max_depth\": trial.suggest_int(\"xgb_max_depth\", 3, 20, step=1),\n",
    "        \"subsample\": trial.suggest_float(\"xgb_subsample\", 0.5, 1.0, step=0.1),\n",
    "        \"colsample_bytree\": trial.suggest_float(\"xgb_colsample_bytree\", 0.5, 1.0, step=0.1),\n",
    "        \"min_child_weight\": trial.suggest_int(\"xgb_min_child_weight\", 1, 10),\n",
    "        \"gamma\": trial.suggest_float(\"xgb_gamma\", 0, 0.5, step=0.1),\n",
    "        \"reg_alpha\": trial.suggest_float(\"xgb_reg_alpha\", 0, 1, step=0.1),\n",
    "        \"reg_lambda\": trial.suggest_float(\"xgb_reg_lambda\", 0, 1, step=0.1),\n",
    "    }\n",
    "\n",
    "    # Train models with selected hyperparameters\n",
    "    rf_model = RandomForestClassifier(**rf_params, random_state=42)\n",
    "    xgb_model = XGBClassifier(**xgb_params, random_state=42, use_label_encoder=False, eval_metric=\"logloss\")\n",
    "\n",
    "    # Ensemble Voting Classifier\n",
    "    ensemble_model = VotingClassifier(estimators=[('rf', rf_model), ('xgb', xgb_model)], voting='hard')\n",
    "    \n",
    "    # Train the ensemble model\n",
    "    ensemble_model.fit(X_train, y_train_encoded)\n",
    "\n",
    "    # Predict on validation set\n",
    "    y_pred = ensemble_model.predict(X_test)\n",
    "    \n",
    "    return accuracy_score(y_test_encoded, y_pred)\n",
    "\n",
    "# Run Optuna optimization\n",
    "study = optuna.create_study(direction=\"maximize\")\n",
    "study.optimize(objective, n_trials=30)\n",
    "\n",
    "# Get best hyperparameters\n",
    "best_params = study.best_params\n",
    "print(\"Best Hyperparameters:\", best_params)\n",
    "\n",
    "# Train final models with best parameters\n",
    "best_rf = RandomForestClassifier(\n",
    "    n_estimators=best_params[\"rf_n_estimators\"],\n",
    "    max_depth=best_params[\"rf_max_depth\"],\n",
    "    min_samples_split=best_params[\"rf_min_samples_split\"],\n",
    "    min_samples_leaf=best_params[\"rf_min_samples_leaf\"],\n",
    "    bootstrap=best_params[\"rf_bootstrap\"],\n",
    "    random_state=42\n",
    ")\n",
    "\n",
    "best_xgb = XGBClassifier(\n",
    "    n_estimators=best_params[\"xgb_n_estimators\"],\n",
    "    learning_rate=best_params[\"xgb_learning_rate\"],\n",
    "    max_depth=best_params[\"xgb_max_depth\"],\n",
    "    subsample=best_params[\"xgb_subsample\"],\n",
    "    colsample_bytree=best_params[\"xgb_colsample_bytree\"],\n",
    "    min_child_weight=best_params[\"xgb_min_child_weight\"],\n",
    "    gamma=best_params[\"xgb_gamma\"],\n",
    "    reg_alpha=best_params[\"xgb_reg_alpha\"],\n",
    "    reg_lambda=best_params[\"xgb_reg_lambda\"],\n",
    "    random_state=42,\n",
    "    use_label_encoder=False,\n",
    "    eval_metric=\"logloss\"\n",
    ")\n",
    "\n",
    "# Final optimized ensemble model\n",
    "final_ensemble = VotingClassifier(estimators=[('rf', best_rf), ('xgb', best_xgb)], voting='hard')\n",
    "final_ensemble.fit(X_train, y_train_encoded)\n",
    "\n",
    "# Predict and evaluate\n",
    "y_pred_final = final_ensemble.predict(X_test)\n",
    "print(\"Optimized Ensemble Model Accuracy:\", accuracy_score(y_test_encoded, y_pred_final))\n"
   ]
  },
  {
   "cell_type": "code",
   "execution_count": null,
   "metadata": {
    "jupyter": {
     "source_hidden": true
    },
    "trusted": true
   },
   "outputs": [],
   "source": [
    "import optuna\n",
    "from sklearn.ensemble import VotingClassifier, RandomForestClassifier\n",
    "from xgboost import XGBClassifier\n",
    "from sklearn.metrics import accuracy_score\n",
    "from sklearn.preprocessing import LabelEncoder\n",
    "\n",
    "# Encode target variable\n",
    "label_encoder = LabelEncoder()\n",
    "y_train_encoded = label_encoder.fit_transform(y_train)\n",
    "y_test_encoded = label_encoder.transform(y_test)\n",
    "\n",
    "# Optuna objective function for hyperparameter tuning\n",
    "def objective(trial):\n",
    "    # Random Forest parameters\n",
    "    rf_params = {\n",
    "        \"n_estimators\": trial.suggest_int(\"rf_n_estimators\", 50, 500, step=50),\n",
    "        \"max_depth\": trial.suggest_int(\"rf_max_depth\", 5, 30, step=1),\n",
    "        \"min_samples_split\": trial.suggest_int(\"rf_min_samples_split\", 2, 10),\n",
    "        \"min_samples_leaf\": trial.suggest_int(\"rf_min_samples_leaf\", 1, 10),\n",
    "        \"bootstrap\": trial.suggest_categorical(\"rf_bootstrap\", [True, False]),\n",
    "    }\n",
    "\n",
    "    # XGBoost parameters\n",
    "    xgb_params = {\n",
    "        \"n_estimators\": trial.suggest_int(\"xgb_n_estimators\", 50, 500, step=50),\n",
    "        \"learning_rate\": trial.suggest_float(\"xgb_learning_rate\", 0.01, 0.3, step=0.01),\n",
    "        \"max_depth\": trial.suggest_int(\"xgb_max_depth\", 3, 20, step=1),\n",
    "        \"subsample\": trial.suggest_float(\"xgb_subsample\", 0.5, 1.0, step=0.1),\n",
    "        \"colsample_bytree\": trial.suggest_float(\"xgb_colsample_bytree\", 0.5, 1.0, step=0.1),\n",
    "        \"min_child_weight\": trial.suggest_int(\"xgb_min_child_weight\", 1, 10),\n",
    "        \"gamma\": trial.suggest_float(\"xgb_gamma\", 0, 0.5, step=0.1),\n",
    "        \"reg_alpha\": trial.suggest_float(\"xgb_reg_alpha\", 0, 1, step=0.1),\n",
    "        \"reg_lambda\": trial.suggest_float(\"xgb_reg_lambda\", 0, 1, step=0.1),\n",
    "    }\n",
    "\n",
    "    # Train models with selected hyperparameters\n",
    "    rf_model = RandomForestClassifier(**rf_params, random_state=42)\n",
    "    xgb_model = XGBClassifier(**xgb_params, random_state=42, use_label_encoder=False, eval_metric=\"logloss\")\n",
    "\n",
    "    # Ensemble Voting Classifier\n",
    "    ensemble_model = VotingClassifier(estimators=[('rf', rf_model), ('xgb', xgb_model)], voting='hard')\n",
    "    \n",
    "    # Train the ensemble model\n",
    "    ensemble_model.fit(X_train, y_train_encoded)\n",
    "\n",
    "    # Predict on validation set\n",
    "    y_pred = ensemble_model.predict(X_test)\n",
    "    \n",
    "    return accuracy_score(y_test_encoded, y_pred)\n",
    "\n",
    "# Run Optuna optimization\n",
    "study = optuna.create_study(direction=\"maximize\")\n",
    "study.optimize(objective, n_trials=30)\n",
    "\n",
    "# Get best hyperparameters\n",
    "best_params = study.best_params\n",
    "print(\"Best Hyperparameters:\", best_params)\n",
    "\n",
    "# Train final models with best parameters\n",
    "best_rf = RandomForestClassifier(\n",
    "    n_estimators=best_params[\"rf_n_estimators\"],\n",
    "    max_depth=best_params[\"rf_max_depth\"],\n",
    "    min_samples_split=best_params[\"rf_min_samples_split\"],\n",
    "    min_samples_leaf=best_params[\"rf_min_samples_leaf\"],\n",
    "    bootstrap=best_params[\"rf_bootstrap\"],\n",
    "    random_state=42\n",
    ")\n",
    "\n",
    "best_xgb = XGBClassifier(\n",
    "    n_estimators=best_params[\"xgb_n_estimators\"],\n",
    "    learning_rate=best_params[\"xgb_learning_rate\"],\n",
    "    max_depth=best_params[\"xgb_max_depth\"],\n",
    "    subsample=best_params[\"xgb_subsample\"],\n",
    "    colsample_bytree=best_params[\"xgb_colsample_bytree\"],\n",
    "    min_child_weight=best_params[\"xgb_min_child_weight\"],\n",
    "    gamma=best_params[\"xgb_gamma\"],\n",
    "    reg_alpha=best_params[\"xgb_reg_alpha\"],\n",
    "    reg_lambda=best_params[\"xgb_reg_lambda\"],\n",
    "    random_state=42,\n",
    "    use_label_encoder=False,\n",
    "    eval_metric=\"logloss\"\n",
    ")\n",
    "\n",
    "# Final optimized ensemble model\n",
    "final_ensemble = VotingClassifier(estimators=[('rf', best_rf), ('xgb', best_xgb)], voting='hard')\n",
    "final_ensemble.fit(X_train, y_train_encoded)\n",
    "\n",
    "# Predict and evaluate\n",
    "y_pred_final = final_ensemble.predict(X_test)\n",
    "print(\"Optimized Ensemble Model Accuracy:\", accuracy_score(y_test_encoded, y_pred_final))\n"
   ]
  },
  {
   "cell_type": "code",
   "execution_count": null,
   "metadata": {
    "jupyter": {
     "source_hidden": true
    },
    "trusted": true
   },
   "outputs": [],
   "source": [
    "# print(\"Random Forest Report:\")\n",
    "# print(classification_report(y_test, y_pred_best_rf))\n",
    "print(\"\\nXGBoost Report:\")\n",
    "print(classification_report(y_test_encoded, y_pred_best_xgb))\n",
    "print(\"\\nEnsemble Model Report:\")\n",
    "print(classification_report(y_test_encoded, y_pred_final))"
   ]
  },
  {
   "cell_type": "code",
   "execution_count": null,
   "metadata": {
    "jupyter": {
     "source_hidden": true
    },
    "trusted": true
   },
   "outputs": [],
   "source": [
    "import joblib\n",
    "\n",
    "# Save the trained model\n",
    "joblib.dump(best_xgb, \"best_xgb_model.pkl\")\n",
    "print(\"Model saved successfully as best_xgb_model.pkl\")"
   ]
  },
  {
   "cell_type": "code",
   "execution_count": 104,
   "metadata": {
    "execution": {
     "iopub.execute_input": "2025-03-23T17:00:28.588522Z",
     "iopub.status.busy": "2025-03-23T17:00:28.588170Z",
     "iopub.status.idle": "2025-03-23T17:00:28.599261Z",
     "shell.execute_reply": "2025-03-23T17:00:28.597932Z",
     "shell.execute_reply.started": "2025-03-23T17:00:28.588492Z"
    },
    "trusted": true
   },
   "outputs": [],
   "source": [
    "# Load historical matches dataset (for feature computation)\n",
    "matches1 = pd.read_csv(\"/kaggle/input/jay-shah-supremacy/filtered_matches (1).csv\")"
   ]
  },
  {
   "cell_type": "code",
   "execution_count": 105,
   "metadata": {
    "execution": {
     "iopub.execute_input": "2025-03-23T17:00:30.338393Z",
     "iopub.status.busy": "2025-03-23T17:00:30.338062Z",
     "iopub.status.idle": "2025-03-23T17:00:30.346302Z",
     "shell.execute_reply": "2025-03-23T17:00:30.344973Z",
     "shell.execute_reply.started": "2025-03-23T17:00:30.338366Z"
    },
    "trusted": true
   },
   "outputs": [],
   "source": [
    "# Load upcoming matches schedule\n",
    "schedule = pd.read_csv(\"/kaggle/input/jay-shah-supremacy/ipl_schedule_2025.csv\")"
   ]
  },
  {
   "cell_type": "code",
   "execution_count": 106,
   "metadata": {
    "execution": {
     "iopub.execute_input": "2025-03-23T17:00:33.468419Z",
     "iopub.status.busy": "2025-03-23T17:00:33.468084Z",
     "iopub.status.idle": "2025-03-23T17:00:33.473405Z",
     "shell.execute_reply": "2025-03-23T17:00:33.472189Z",
     "shell.execute_reply.started": "2025-03-23T17:00:33.468392Z"
    },
    "trusted": true
   },
   "outputs": [],
   "source": [
    "schedule['match_type'] = 'league'"
   ]
  },
  {
   "cell_type": "code",
   "execution_count": 107,
   "metadata": {
    "execution": {
     "iopub.execute_input": "2025-03-23T17:00:35.383312Z",
     "iopub.status.busy": "2025-03-23T17:00:35.382970Z",
     "iopub.status.idle": "2025-03-23T17:00:35.402440Z",
     "shell.execute_reply": "2025-03-23T17:00:35.401362Z",
     "shell.execute_reply.started": "2025-03-23T17:00:35.383279Z"
    },
    "trusted": true
   },
   "outputs": [],
   "source": [
    "# Apply the function to create the isTeam1Home column\n",
    "schedule['isTeam1Home'] = matches.apply(lambda x: is_home_team(x['team1'], x['city']), axis=1)"
   ]
  },
  {
   "cell_type": "code",
   "execution_count": 108,
   "metadata": {
    "execution": {
     "iopub.execute_input": "2025-03-23T17:00:38.543220Z",
     "iopub.status.busy": "2025-03-23T17:00:38.542873Z",
     "iopub.status.idle": "2025-03-23T17:00:38.556018Z",
     "shell.execute_reply": "2025-03-23T17:00:38.554958Z",
     "shell.execute_reply.started": "2025-03-23T17:00:38.543192Z"
    },
    "trusted": true
   },
   "outputs": [
    {
     "data": {
      "text/html": [
       "<div>\n",
       "<style scoped>\n",
       "    .dataframe tbody tr th:only-of-type {\n",
       "        vertical-align: middle;\n",
       "    }\n",
       "\n",
       "    .dataframe tbody tr th {\n",
       "        vertical-align: top;\n",
       "    }\n",
       "\n",
       "    .dataframe thead th {\n",
       "        text-align: right;\n",
       "    }\n",
       "</style>\n",
       "<table border=\"1\" class=\"dataframe\">\n",
       "  <thead>\n",
       "    <tr style=\"text-align: right;\">\n",
       "      <th></th>\n",
       "      <th>id</th>\n",
       "      <th>season</th>\n",
       "      <th>city</th>\n",
       "      <th>date</th>\n",
       "      <th>time</th>\n",
       "      <th>venue</th>\n",
       "      <th>team1</th>\n",
       "      <th>team2</th>\n",
       "      <th>match_type</th>\n",
       "      <th>isTeam1Home</th>\n",
       "    </tr>\n",
       "  </thead>\n",
       "  <tbody>\n",
       "    <tr>\n",
       "      <th>0</th>\n",
       "      <td>1</td>\n",
       "      <td>2025</td>\n",
       "      <td>Kolkata</td>\n",
       "      <td>2025-03-22</td>\n",
       "      <td>19:30</td>\n",
       "      <td>Eden Gardens</td>\n",
       "      <td>Kolkata Knight Riders</td>\n",
       "      <td>Royal Challengers Bengaluru</td>\n",
       "      <td>league</td>\n",
       "      <td>1</td>\n",
       "    </tr>\n",
       "    <tr>\n",
       "      <th>1</th>\n",
       "      <td>2</td>\n",
       "      <td>2025</td>\n",
       "      <td>Hyderabad</td>\n",
       "      <td>2025-03-23</td>\n",
       "      <td>15:30</td>\n",
       "      <td>Rajiv Gandhi International Stadium</td>\n",
       "      <td>Sunrisers Hyderabad</td>\n",
       "      <td>Rajasthan Royals</td>\n",
       "      <td>league</td>\n",
       "      <td>1</td>\n",
       "    </tr>\n",
       "    <tr>\n",
       "      <th>2</th>\n",
       "      <td>3</td>\n",
       "      <td>2025</td>\n",
       "      <td>Chennai</td>\n",
       "      <td>2025-03-23</td>\n",
       "      <td>19:30</td>\n",
       "      <td>M.A. Chidambaram Stadium</td>\n",
       "      <td>Chennai Super Kings</td>\n",
       "      <td>Mumbai Indians</td>\n",
       "      <td>league</td>\n",
       "      <td>1</td>\n",
       "    </tr>\n",
       "    <tr>\n",
       "      <th>3</th>\n",
       "      <td>4</td>\n",
       "      <td>2025</td>\n",
       "      <td>Visakhapatnam</td>\n",
       "      <td>2025-03-24</td>\n",
       "      <td>19:30</td>\n",
       "      <td>Dr. Y.S. Rajasekhara Reddy ACA-VDCA Cricket St...</td>\n",
       "      <td>Delhi Capitals</td>\n",
       "      <td>Lucknow Super Giants</td>\n",
       "      <td>league</td>\n",
       "      <td>1</td>\n",
       "    </tr>\n",
       "    <tr>\n",
       "      <th>4</th>\n",
       "      <td>5</td>\n",
       "      <td>2025</td>\n",
       "      <td>Ahmedabad</td>\n",
       "      <td>2025-03-25</td>\n",
       "      <td>19:30</td>\n",
       "      <td>Narendra Modi Stadium</td>\n",
       "      <td>Gujarat Titans</td>\n",
       "      <td>Punjab Kings</td>\n",
       "      <td>league</td>\n",
       "      <td>1</td>\n",
       "    </tr>\n",
       "  </tbody>\n",
       "</table>\n",
       "</div>"
      ],
      "text/plain": [
       "   id  season           city        date   time  \\\n",
       "0   1    2025        Kolkata  2025-03-22  19:30   \n",
       "1   2    2025      Hyderabad  2025-03-23  15:30   \n",
       "2   3    2025        Chennai  2025-03-23  19:30   \n",
       "3   4    2025  Visakhapatnam  2025-03-24  19:30   \n",
       "4   5    2025      Ahmedabad  2025-03-25  19:30   \n",
       "\n",
       "                                               venue                  team1  \\\n",
       "0                                       Eden Gardens  Kolkata Knight Riders   \n",
       "1                 Rajiv Gandhi International Stadium    Sunrisers Hyderabad   \n",
       "2                           M.A. Chidambaram Stadium    Chennai Super Kings   \n",
       "3  Dr. Y.S. Rajasekhara Reddy ACA-VDCA Cricket St...         Delhi Capitals   \n",
       "4                              Narendra Modi Stadium         Gujarat Titans   \n",
       "\n",
       "                         team2 match_type  isTeam1Home  \n",
       "0  Royal Challengers Bengaluru     league            1  \n",
       "1             Rajasthan Royals     league            1  \n",
       "2               Mumbai Indians     league            1  \n",
       "3         Lucknow Super Giants     league            1  \n",
       "4                 Punjab Kings     league            1  "
      ]
     },
     "execution_count": 108,
     "metadata": {},
     "output_type": "execute_result"
    }
   ],
   "source": [
    "schedule.head()"
   ]
  },
  {
   "cell_type": "code",
   "execution_count": 109,
   "metadata": {
    "execution": {
     "iopub.execute_input": "2025-03-23T17:00:40.749041Z",
     "iopub.status.busy": "2025-03-23T17:00:40.748485Z",
     "iopub.status.idle": "2025-03-23T17:00:40.763495Z",
     "shell.execute_reply": "2025-03-23T17:00:40.761943Z",
     "shell.execute_reply.started": "2025-03-23T17:00:40.748999Z"
    },
    "trusted": true
   },
   "outputs": [],
   "source": [
    "def compute_features(match, matches):\n",
    "    \"\"\"\n",
    "    Compute required input features for a single match.\n",
    "    `match`: A single match row.\n",
    "    `matches`: The historical dataset (which is updated after each prediction).\n",
    "    \"\"\"\n",
    "    team1 = match['team1']\n",
    "    team2 = match['team2']\n",
    "    isTeam1Home = match['isTeam1Home']\n",
    "    \n",
    "    # Compute total matches played by each team\n",
    "    matches_played = pd.concat([\n",
    "        matches[['team1', 'winner']], \n",
    "        matches[['team2', 'winner']].rename(columns={'team2': 'team1'})\n",
    "    ])\n",
    "    team_total_matches = matches_played.groupby('team1').size()\n",
    "\n",
    "    # Compute total wins by each team\n",
    "    team_wins = matches_played.groupby('team1')['winner'].apply(lambda x: (x == x.name).sum())\n",
    "\n",
    "    # Compute win percentage for each team\n",
    "    win_percentage = (team_wins / team_total_matches).fillna(0)\n",
    "    \n",
    "    # Map win percentage back to match teams\n",
    "    team1_win_percentage = win_percentage.get(team1, 0)\n",
    "    team2_win_percentage = win_percentage.get(team2, 0)\n",
    "    \n",
    "    # Recent Form (Last 10 Matches Rolling Win Percentage)\n",
    "    matches['team1_won'] = (matches['winner'] == matches['team1']).astype(int)\n",
    "    matches['team2_won'] = (matches['winner'] == matches['team2']).astype(int)\n",
    "    \n",
    "    team1_recent_form = matches.groupby('team1')['team1_won'].transform(lambda x: x.rolling(10, min_periods=1).mean()).iloc[-1]\n",
    "    team2_recent_form = matches.groupby('team2')['team2_won'].transform(lambda x: x.rolling(10, min_periods=1).mean()).iloc[-1]\n",
    "    \n",
    "    # Last 5 Matches Win Percentage\n",
    "    last5_team1 = matches[(matches['team1'] == team1) | (matches['team2'] == team1)].tail(5)\n",
    "    last5_team2 = matches[(matches['team1'] == team2) | (matches['team2'] == team2)].tail(5)\n",
    "    \n",
    "    team1_last5_win_pct = (last5_team1['winner'] == team1).mean()\n",
    "    team2_last5_win_pct = (last5_team2['winner'] == team2).mean()\n",
    "    \n",
    "    # Win Streak (Last 5 Matches)\n",
    "    team1_win_streak = last5_team1['team1_won'].sum()\n",
    "    team2_win_streak = last5_team2['team2_won'].sum()\n",
    "    \n",
    "    # Toss Statistics\n",
    "    team1_toss_win = (matches['toss_winner'] == team1).mean()\n",
    "    team2_toss_win = (matches['toss_winner'] == team2).mean()\n",
    "\n",
    "    team1_toss_win_success = matches.groupby('team1')['team1_won'].transform(lambda x: x.rolling(10, min_periods=1).mean()).iloc[-1]\n",
    "    team2_toss_win_success = matches.groupby('team2')['team2_won'].transform(lambda x: x.rolling(10, min_periods=1).mean()).iloc[-1]\n",
    "    \n",
    "    # Head-to-Head Wins\n",
    "    matches['team1_h2h_wins'] = matches.groupby(['team1', 'team2'])['team1_won'].cumsum() - matches['team1_won']\n",
    "    matches['team2_h2h_wins'] = matches.groupby(['team2', 'team1'])['team2_won'].cumsum() - matches['team2_won']\n",
    "    \n",
    "    team1_h2h_wins = matches['team1_h2h_wins'].iloc[-1] if not matches.empty else 0\n",
    "    team2_h2h_wins = matches['team2_h2h_wins'].iloc[-1] if not matches.empty else 0\n",
    "    \n",
    "    return {\n",
    "        'team1': team1,\n",
    "        'team2': team2,\n",
    "        'team1_win_percentage': team1_win_percentage,\n",
    "        'team2_win_percentage': team2_win_percentage,\n",
    "        'isTeam1Home': isTeam1Home,\n",
    "        'team1_last5_win_pct': team1_last5_win_pct,\n",
    "        'team2_last5_win_pct': team2_last5_win_pct,\n",
    "        'team1_recent_form': team1_recent_form,\n",
    "        'team2_recent_form': team2_recent_form,\n",
    "        'team1_win_streak': team1_win_streak,\n",
    "        'team2_win_streak': team2_win_streak,\n",
    "        'team1_toss_win': team1_toss_win,\n",
    "        'team2_toss_win': team2_toss_win,\n",
    "        'team1_toss_win_success': team1_toss_win_success,\n",
    "        'team2_toss_win_success': team2_toss_win_success,\n",
    "        'team1_h2h_wins': team1_h2h_wins,\n",
    "        'team2_h2h_wins': team2_h2h_wins\n",
    "    }"
   ]
  },
  {
   "cell_type": "code",
   "execution_count": 110,
   "metadata": {
    "execution": {
     "iopub.execute_input": "2025-03-23T17:00:45.263521Z",
     "iopub.status.busy": "2025-03-23T17:00:45.263158Z",
     "iopub.status.idle": "2025-03-23T17:00:45.268796Z",
     "shell.execute_reply": "2025-03-23T17:00:45.267666Z",
     "shell.execute_reply.started": "2025-03-23T17:00:45.263489Z"
    },
    "trusted": true
   },
   "outputs": [],
   "source": [
    "### Step 2: Sequentially Process Matches ###\n",
    "predictions = []"
   ]
  },
  {
   "cell_type": "code",
   "execution_count": 111,
   "metadata": {
    "execution": {
     "iopub.execute_input": "2025-03-23T17:00:47.428529Z",
     "iopub.status.busy": "2025-03-23T17:00:47.428183Z",
     "iopub.status.idle": "2025-03-23T17:00:47.436451Z",
     "shell.execute_reply": "2025-03-23T17:00:47.434566Z",
     "shell.execute_reply.started": "2025-03-23T17:00:47.428498Z"
    },
    "trusted": true
   },
   "outputs": [
    {
     "name": "stdout",
     "output_type": "stream",
     "text": [
      "['team1', 'team2', 'team1_win_percentage', 'team2_win_percentage', 'isTeam1Home', 'team1_last5_win_pct', 'team2_last5_win_pct', 'team1_recent_form', 'team2_recent_form', 'team1_win_streak', 'team2_win_streak', 'team1_toss_win', 'team2_toss_win', 'team1_toss_win_success', 'team2_toss_win_success', 'team1_h2h_wins', 'team2_h2h_wins']\n"
     ]
    }
   ],
   "source": [
    "# Ensure feature alignment with training data\n",
    "train_feature_columns = X_train.columns.tolist()  # Get trained feature names\n",
    "\n",
    "print(train_feature_columns)"
   ]
  },
  {
   "cell_type": "code",
   "execution_count": 112,
   "metadata": {
    "execution": {
     "iopub.execute_input": "2025-03-23T17:01:03.223838Z",
     "iopub.status.busy": "2025-03-23T17:01:03.223413Z",
     "iopub.status.idle": "2025-03-23T17:01:03.234225Z",
     "shell.execute_reply": "2025-03-23T17:01:03.232805Z",
     "shell.execute_reply.started": "2025-03-23T17:01:03.223801Z"
    },
    "trusted": true
   },
   "outputs": [],
   "source": [
    "import random\n",
    "import pandas as pd\n",
    "import numpy as np\n",
    "\n",
    "def predict_matches(schedule, matches1, best_xgb, label_encoder_teams, scaler, train_feature_columns):\n",
    "    predictions = []\n",
    "    \n",
    "    for idx, match in schedule.iterrows():\n",
    "        print(f\"Processing match {idx + 1}/{len(schedule)}: {match['team1']} vs {match['team2']}\")\n",
    "        \n",
    "        # Compute features dynamically\n",
    "        match_features = compute_features(match, matches1)\n",
    "        \n",
    "        # Convert to DataFrame\n",
    "        match_df = pd.DataFrame([match_features])\n",
    "        \n",
    "        # Encode categorical features using the same LabelEncoder\n",
    "        match_df['team1'] = label_encoder_teams.transform([match_df['team1'][0]])\n",
    "        match_df['team2'] = label_encoder_teams.transform([match_df['team2'][0]])\n",
    "        \n",
    "        # Ensure all columns from training exist\n",
    "        for col in train_feature_columns:\n",
    "            if col not in match_df.columns:\n",
    "                match_df[col] = 0  # Assign 0 to missing columns\n",
    "\n",
    "        # Drop any extra columns that were not in training\n",
    "        match_df = match_df[train_feature_columns]  # Reorder & retain only required columns\n",
    "        \n",
    "        # Standardize using the same scaler from training\n",
    "        match_df[scaler.feature_names_in_] = scaler.transform(match_df[scaler.feature_names_in_])\n",
    "        \n",
    "        # Predict winner\n",
    "        winner_pred_encoded = best_xgb.predict(match_df)[0]\n",
    "        \n",
    "        # Convert back to team name\n",
    "        winner_pred = label_encoder_teams.inverse_transform([winner_pred_encoded])[0]\n",
    "        \n",
    "        # Decide toss winner\n",
    "        if match_features[\"team1_toss_win\"] > match_features[\"team2_toss_win\"]:\n",
    "            toss_winner = match[\"team1\"]\n",
    "        elif match_features[\"team1_toss_win\"] < match_features[\"team2_toss_win\"]:\n",
    "            toss_winner = match[\"team2\"]\n",
    "        else:\n",
    "            toss_winner = random.choice([match[\"team1\"], match[\"team2\"]])  # Random selection if tied\n",
    "        \n",
    "        # Store the prediction\n",
    "        predictions.append(winner_pred)\n",
    "        \n",
    "        # Append match with predicted winner\n",
    "        new_match = {\n",
    "            \"id\": len(matches1) + 1,\n",
    "            \"season\": match[\"season\"],\n",
    "            \"city\": match[\"city\"],\n",
    "            \"date\": match[\"date\"],\n",
    "            \"match_type\": match[\"match_type\"],\n",
    "            \"venue\": match[\"venue\"],\n",
    "            \"team1\": match[\"team1\"],\n",
    "            \"team2\": match[\"team2\"],\n",
    "            \"toss_winner\": toss_winner,\n",
    "            \"winner\": winner_pred\n",
    "        }\n",
    "        \n",
    "        matches1.loc[len(matches1)] = new_match\n",
    "    \n",
    "    return predictions, matches1"
   ]
  },
  {
   "cell_type": "code",
   "execution_count": 113,
   "metadata": {
    "execution": {
     "iopub.execute_input": "2025-03-23T17:01:13.503573Z",
     "iopub.status.busy": "2025-03-23T17:01:13.503197Z",
     "iopub.status.idle": "2025-03-23T17:01:16.698936Z",
     "shell.execute_reply": "2025-03-23T17:01:16.697804Z",
     "shell.execute_reply.started": "2025-03-23T17:01:13.503539Z"
    },
    "trusted": true
   },
   "outputs": [
    {
     "name": "stdout",
     "output_type": "stream",
     "text": [
      "Processing match 1/70: Kolkata Knight Riders vs Royal Challengers Bengaluru\n",
      "Processing match 2/70: Sunrisers Hyderabad vs Rajasthan Royals\n",
      "Processing match 3/70: Chennai Super Kings vs Mumbai Indians\n",
      "Processing match 4/70: Delhi Capitals vs Lucknow Super Giants\n",
      "Processing match 5/70: Gujarat Titans vs Punjab Kings\n",
      "Processing match 6/70: Rajasthan Royals vs Kolkata Knight Riders\n",
      "Processing match 7/70: Sunrisers Hyderabad vs Lucknow Super Giants\n",
      "Processing match 8/70: Chennai Super Kings vs Royal Challengers Bengaluru\n",
      "Processing match 9/70: Gujarat Titans vs Mumbai Indians\n",
      "Processing match 10/70: Delhi Capitals vs Sunrisers Hyderabad\n",
      "Processing match 11/70: Rajasthan Royals vs Chennai Super Kings\n",
      "Processing match 12/70: Mumbai Indians vs Kolkata Knight Riders\n",
      "Processing match 13/70: Lucknow Super Giants vs Punjab Kings\n",
      "Processing match 14/70: Royal Challengers Bengaluru vs Gujarat Titans\n",
      "Processing match 15/70: Kolkata Knight Riders vs Sunrisers Hyderabad\n",
      "Processing match 16/70: Lucknow Super Giants vs Mumbai Indians\n",
      "Processing match 17/70: Chennai Super Kings vs Delhi Capitals\n",
      "Processing match 18/70: Punjab Kings vs Rajasthan Royals\n",
      "Processing match 19/70: Kolkata Knight Riders vs Lucknow Super Giants\n",
      "Processing match 20/70: Sunrisers Hyderabad vs Gujarat Titans\n",
      "Processing match 21/70: Mumbai Indians vs Royal Challengers Bengaluru\n",
      "Processing match 22/70: Punjab Kings vs Chennai Super Kings\n",
      "Processing match 23/70: Gujarat Titans vs Rajasthan Royals\n",
      "Processing match 24/70: Royal Challengers Bengaluru vs Delhi Capitals\n",
      "Processing match 25/70: Chennai Super Kings vs Kolkata Knight Riders\n",
      "Processing match 26/70: Lucknow Super Giants vs Gujarat Titans\n",
      "Processing match 27/70: Sunrisers Hyderabad vs Punjab Kings\n",
      "Processing match 28/70: Rajasthan Royals vs Royal Challengers Bengaluru\n",
      "Processing match 29/70: Delhi Capitals vs Mumbai Indians\n",
      "Processing match 30/70: Lucknow Super Giants vs Chennai Super Kings\n",
      "Processing match 31/70: Punjab Kings vs Kolkata Knight Riders\n",
      "Processing match 32/70: Delhi Capitals vs Rajasthan Royals\n",
      "Processing match 33/70: Mumbai Indians vs Sunrisers Hyderabad\n",
      "Processing match 34/70: Royal Challengers Bengaluru vs Punjab Kings\n",
      "Processing match 35/70: Gujarat Titans vs Delhi Capitals\n",
      "Processing match 36/70: Rajasthan Royals vs Lucknow Super Giants\n",
      "Processing match 37/70: Punjab Kings vs Royal Challengers Bengaluru\n",
      "Processing match 38/70: Mumbai Indians vs Chennai Super Kings\n",
      "Processing match 39/70: Kolkata Knight Riders vs Gujarat Titans\n",
      "Processing match 40/70: Lucknow Super Giants vs Delhi Capitals\n",
      "Processing match 41/70: Sunrisers Hyderabad vs Mumbai Indians\n",
      "Processing match 42/70: Royal Challengers Bengaluru vs Rajasthan Royals\n",
      "Processing match 43/70: Chennai Super Kings vs Sunrisers Hyderabad\n",
      "Processing match 44/70: Kolkata Knight Riders vs Punjab Kings\n",
      "Processing match 45/70: Mumbai Indians vs Lucknow Super Giants\n",
      "Processing match 46/70: Delhi Capitals vs Royal Challengers Bengaluru\n",
      "Processing match 47/70: Rajasthan Royals vs Gujarat Titans\n",
      "Processing match 48/70: Delhi Capitals vs Kolkata Knight Riders\n",
      "Processing match 49/70: Chennai Super Kings vs Punjab Kings\n",
      "Processing match 50/70: Rajasthan Royals vs Mumbai Indians\n",
      "Processing match 51/70: Gujarat Titans vs Sunrisers Hyderabad\n",
      "Processing match 52/70: Royal Challengers Bengaluru vs Chennai Super Kings\n",
      "Processing match 53/70: Kolkata Knight Riders vs Rajasthan Royals\n",
      "Processing match 54/70: Punjab Kings vs Lucknow Super Giants\n",
      "Processing match 55/70: Sunrisers Hyderabad vs Delhi Capitals\n",
      "Processing match 56/70: Mumbai Indians vs Gujarat Titans\n",
      "Processing match 57/70: Kolkata Knight Riders vs Chennai Super Kings\n",
      "Processing match 58/70: Punjab Kings vs Delhi Capitals\n",
      "Processing match 59/70: Lucknow Super Giants vs Royal Challengers Bengaluru\n",
      "Processing match 60/70: Sunrisers Hyderabad vs Kolkata Knight Riders\n",
      "Processing match 61/70: Punjab Kings vs Mumbai Indians\n",
      "Processing match 62/70: Delhi Capitals vs Gujarat Titans\n",
      "Processing match 63/70: Chennai Super Kings vs Rajasthan Royals\n",
      "Processing match 64/70: Royal Challengers Bengaluru vs Sunrisers Hyderabad\n",
      "Processing match 65/70: Gujarat Titans vs Lucknow Super Giants\n",
      "Processing match 66/70: Mumbai Indians vs Delhi Capitals\n",
      "Processing match 67/70: Rajasthan Royals vs Punjab Kings\n",
      "Processing match 68/70: Royal Challengers Bengaluru vs Kolkata Knight Riders\n",
      "Processing match 69/70: Gujarat Titans vs Chennai Super Kings\n",
      "Processing match 70/70: Lucknow Super Giants vs Sunrisers Hyderabad\n"
     ]
    }
   ],
   "source": [
    "predictions1, matches2 = predict_matches(schedule, matches1, best_xgb, label_encoder_teams, scaler, train_feature_columns)"
   ]
  },
  {
   "cell_type": "code",
   "execution_count": 114,
   "metadata": {
    "execution": {
     "iopub.execute_input": "2025-03-23T17:01:26.064117Z",
     "iopub.status.busy": "2025-03-23T17:01:26.063723Z",
     "iopub.status.idle": "2025-03-23T17:01:26.085566Z",
     "shell.execute_reply": "2025-03-23T17:01:26.084438Z",
     "shell.execute_reply.started": "2025-03-23T17:01:26.064087Z"
    },
    "trusted": true
   },
   "outputs": [
    {
     "data": {
      "text/html": [
       "<div>\n",
       "<style scoped>\n",
       "    .dataframe tbody tr th:only-of-type {\n",
       "        vertical-align: middle;\n",
       "    }\n",
       "\n",
       "    .dataframe tbody tr th {\n",
       "        vertical-align: top;\n",
       "    }\n",
       "\n",
       "    .dataframe thead th {\n",
       "        text-align: right;\n",
       "    }\n",
       "</style>\n",
       "<table border=\"1\" class=\"dataframe\">\n",
       "  <thead>\n",
       "    <tr style=\"text-align: right;\">\n",
       "      <th></th>\n",
       "      <th>id</th>\n",
       "      <th>season</th>\n",
       "      <th>city</th>\n",
       "      <th>date</th>\n",
       "      <th>match_type</th>\n",
       "      <th>venue</th>\n",
       "      <th>team1</th>\n",
       "      <th>team2</th>\n",
       "      <th>toss_winner</th>\n",
       "      <th>winner</th>\n",
       "      <th>team1_won</th>\n",
       "      <th>team2_won</th>\n",
       "      <th>team1_h2h_wins</th>\n",
       "      <th>team2_h2h_wins</th>\n",
       "    </tr>\n",
       "  </thead>\n",
       "  <tbody>\n",
       "    <tr>\n",
       "      <th>1053</th>\n",
       "      <td>1054</td>\n",
       "      <td>2025</td>\n",
       "      <td>Mumbai</td>\n",
       "      <td>2025-05-15</td>\n",
       "      <td>league</td>\n",
       "      <td>Wankhede Stadium</td>\n",
       "      <td>Mumbai Indians</td>\n",
       "      <td>Delhi Capitals</td>\n",
       "      <td>Mumbai Indians</td>\n",
       "      <td>Delhi Capitals</td>\n",
       "      <td>0.0</td>\n",
       "      <td>1.0</td>\n",
       "      <td>11.0</td>\n",
       "      <td>5.0</td>\n",
       "    </tr>\n",
       "    <tr>\n",
       "      <th>1054</th>\n",
       "      <td>1055</td>\n",
       "      <td>2025</td>\n",
       "      <td>Jaipur</td>\n",
       "      <td>2025-05-16</td>\n",
       "      <td>league</td>\n",
       "      <td>Sawai Mansingh Stadium</td>\n",
       "      <td>Rajasthan Royals</td>\n",
       "      <td>Punjab Kings</td>\n",
       "      <td>Rajasthan Royals</td>\n",
       "      <td>Rajasthan Royals</td>\n",
       "      <td>1.0</td>\n",
       "      <td>0.0</td>\n",
       "      <td>6.0</td>\n",
       "      <td>3.0</td>\n",
       "    </tr>\n",
       "    <tr>\n",
       "      <th>1055</th>\n",
       "      <td>1056</td>\n",
       "      <td>2025</td>\n",
       "      <td>Bengaluru</td>\n",
       "      <td>2025-05-17</td>\n",
       "      <td>league</td>\n",
       "      <td>M. Chinnaswamy Stadium</td>\n",
       "      <td>Royal Challengers Bengaluru</td>\n",
       "      <td>Kolkata Knight Riders</td>\n",
       "      <td>Royal Challengers Bengaluru</td>\n",
       "      <td>Royal Challengers Bengaluru</td>\n",
       "      <td>1.0</td>\n",
       "      <td>0.0</td>\n",
       "      <td>9.0</td>\n",
       "      <td>11.0</td>\n",
       "    </tr>\n",
       "    <tr>\n",
       "      <th>1056</th>\n",
       "      <td>1057</td>\n",
       "      <td>2025</td>\n",
       "      <td>Ahmedabad</td>\n",
       "      <td>2025-05-18</td>\n",
       "      <td>league</td>\n",
       "      <td>Narendra Modi Stadium</td>\n",
       "      <td>Gujarat Titans</td>\n",
       "      <td>Chennai Super Kings</td>\n",
       "      <td>Chennai Super Kings</td>\n",
       "      <td>Chennai Super Kings</td>\n",
       "      <td>0.0</td>\n",
       "      <td>1.0</td>\n",
       "      <td>1.0</td>\n",
       "      <td>1.0</td>\n",
       "    </tr>\n",
       "    <tr>\n",
       "      <th>1057</th>\n",
       "      <td>1058</td>\n",
       "      <td>2025</td>\n",
       "      <td>Lucknow</td>\n",
       "      <td>2025-05-18</td>\n",
       "      <td>league</td>\n",
       "      <td>Ekana Cricket Stadium</td>\n",
       "      <td>Lucknow Super Giants</td>\n",
       "      <td>Sunrisers Hyderabad</td>\n",
       "      <td>Sunrisers Hyderabad</td>\n",
       "      <td>Sunrisers Hyderabad</td>\n",
       "      <td>NaN</td>\n",
       "      <td>NaN</td>\n",
       "      <td>NaN</td>\n",
       "      <td>NaN</td>\n",
       "    </tr>\n",
       "  </tbody>\n",
       "</table>\n",
       "</div>"
      ],
      "text/plain": [
       "        id season       city        date match_type                   venue  \\\n",
       "1053  1054   2025     Mumbai  2025-05-15     league        Wankhede Stadium   \n",
       "1054  1055   2025     Jaipur  2025-05-16     league  Sawai Mansingh Stadium   \n",
       "1055  1056   2025  Bengaluru  2025-05-17     league  M. Chinnaswamy Stadium   \n",
       "1056  1057   2025  Ahmedabad  2025-05-18     league   Narendra Modi Stadium   \n",
       "1057  1058   2025    Lucknow  2025-05-18     league   Ekana Cricket Stadium   \n",
       "\n",
       "                            team1                  team2  \\\n",
       "1053               Mumbai Indians         Delhi Capitals   \n",
       "1054             Rajasthan Royals           Punjab Kings   \n",
       "1055  Royal Challengers Bengaluru  Kolkata Knight Riders   \n",
       "1056               Gujarat Titans    Chennai Super Kings   \n",
       "1057         Lucknow Super Giants    Sunrisers Hyderabad   \n",
       "\n",
       "                      toss_winner                       winner  team1_won  \\\n",
       "1053               Mumbai Indians               Delhi Capitals        0.0   \n",
       "1054             Rajasthan Royals             Rajasthan Royals        1.0   \n",
       "1055  Royal Challengers Bengaluru  Royal Challengers Bengaluru        1.0   \n",
       "1056          Chennai Super Kings          Chennai Super Kings        0.0   \n",
       "1057          Sunrisers Hyderabad          Sunrisers Hyderabad        NaN   \n",
       "\n",
       "      team2_won  team1_h2h_wins  team2_h2h_wins  \n",
       "1053        1.0            11.0             5.0  \n",
       "1054        0.0             6.0             3.0  \n",
       "1055        0.0             9.0            11.0  \n",
       "1056        1.0             1.0             1.0  \n",
       "1057        NaN             NaN             NaN  "
      ]
     },
     "execution_count": 114,
     "metadata": {},
     "output_type": "execute_result"
    }
   ],
   "source": [
    "matches2.tail()"
   ]
  },
  {
   "cell_type": "code",
   "execution_count": 115,
   "metadata": {
    "execution": {
     "iopub.execute_input": "2025-03-23T17:01:37.348626Z",
     "iopub.status.busy": "2025-03-23T17:01:37.348230Z",
     "iopub.status.idle": "2025-03-23T17:01:37.355250Z",
     "shell.execute_reply": "2025-03-23T17:01:37.354152Z",
     "shell.execute_reply.started": "2025-03-23T17:01:37.348570Z"
    },
    "trusted": true
   },
   "outputs": [],
   "source": [
    "last_70_matches = matches2[['team1', 'team2', 'winner', 'date']].tail(70).copy()"
   ]
  },
  {
   "cell_type": "code",
   "execution_count": 116,
   "metadata": {
    "execution": {
     "iopub.execute_input": "2025-03-23T17:01:39.783317Z",
     "iopub.status.busy": "2025-03-23T17:01:39.782931Z",
     "iopub.status.idle": "2025-03-23T17:01:39.794010Z",
     "shell.execute_reply": "2025-03-23T17:01:39.792898Z",
     "shell.execute_reply.started": "2025-03-23T17:01:39.783284Z"
    },
    "trusted": true
   },
   "outputs": [
    {
     "data": {
      "text/html": [
       "<div>\n",
       "<style scoped>\n",
       "    .dataframe tbody tr th:only-of-type {\n",
       "        vertical-align: middle;\n",
       "    }\n",
       "\n",
       "    .dataframe tbody tr th {\n",
       "        vertical-align: top;\n",
       "    }\n",
       "\n",
       "    .dataframe thead th {\n",
       "        text-align: right;\n",
       "    }\n",
       "</style>\n",
       "<table border=\"1\" class=\"dataframe\">\n",
       "  <thead>\n",
       "    <tr style=\"text-align: right;\">\n",
       "      <th></th>\n",
       "      <th>team1</th>\n",
       "      <th>team2</th>\n",
       "      <th>winner</th>\n",
       "      <th>date</th>\n",
       "    </tr>\n",
       "  </thead>\n",
       "  <tbody>\n",
       "    <tr>\n",
       "      <th>988</th>\n",
       "      <td>Kolkata Knight Riders</td>\n",
       "      <td>Royal Challengers Bengaluru</td>\n",
       "      <td>Kolkata Knight Riders</td>\n",
       "      <td>2025-03-22</td>\n",
       "    </tr>\n",
       "    <tr>\n",
       "      <th>989</th>\n",
       "      <td>Sunrisers Hyderabad</td>\n",
       "      <td>Rajasthan Royals</td>\n",
       "      <td>Rajasthan Royals</td>\n",
       "      <td>2025-03-23</td>\n",
       "    </tr>\n",
       "    <tr>\n",
       "      <th>990</th>\n",
       "      <td>Chennai Super Kings</td>\n",
       "      <td>Mumbai Indians</td>\n",
       "      <td>Chennai Super Kings</td>\n",
       "      <td>2025-03-23</td>\n",
       "    </tr>\n",
       "    <tr>\n",
       "      <th>991</th>\n",
       "      <td>Delhi Capitals</td>\n",
       "      <td>Lucknow Super Giants</td>\n",
       "      <td>Delhi Capitals</td>\n",
       "      <td>2025-03-24</td>\n",
       "    </tr>\n",
       "    <tr>\n",
       "      <th>992</th>\n",
       "      <td>Gujarat Titans</td>\n",
       "      <td>Punjab Kings</td>\n",
       "      <td>Gujarat Titans</td>\n",
       "      <td>2025-03-25</td>\n",
       "    </tr>\n",
       "  </tbody>\n",
       "</table>\n",
       "</div>"
      ],
      "text/plain": [
       "                     team1                        team2  \\\n",
       "988  Kolkata Knight Riders  Royal Challengers Bengaluru   \n",
       "989    Sunrisers Hyderabad             Rajasthan Royals   \n",
       "990    Chennai Super Kings               Mumbai Indians   \n",
       "991         Delhi Capitals         Lucknow Super Giants   \n",
       "992         Gujarat Titans                 Punjab Kings   \n",
       "\n",
       "                    winner        date  \n",
       "988  Kolkata Knight Riders  2025-03-22  \n",
       "989       Rajasthan Royals  2025-03-23  \n",
       "990    Chennai Super Kings  2025-03-23  \n",
       "991         Delhi Capitals  2025-03-24  \n",
       "992         Gujarat Titans  2025-03-25  "
      ]
     },
     "execution_count": 116,
     "metadata": {},
     "output_type": "execute_result"
    }
   ],
   "source": [
    "last_70_matches.head()"
   ]
  },
  {
   "cell_type": "code",
   "execution_count": 117,
   "metadata": {
    "execution": {
     "iopub.execute_input": "2025-03-23T17:02:25.383500Z",
     "iopub.status.busy": "2025-03-23T17:02:25.383171Z",
     "iopub.status.idle": "2025-03-23T17:02:25.388964Z",
     "shell.execute_reply": "2025-03-23T17:02:25.387804Z",
     "shell.execute_reply.started": "2025-03-23T17:02:25.383474Z"
    },
    "trusted": true
   },
   "outputs": [
    {
     "name": "stdout",
     "output_type": "stream",
     "text": [
      "['Kolkata Knight Riders', 'Rajasthan Royals', 'Chennai Super Kings', 'Delhi Capitals', 'Gujarat Titans', 'Rajasthan Royals', 'Sunrisers Hyderabad', 'Chennai Super Kings', 'Gujarat Titans', 'Sunrisers Hyderabad', 'Chennai Super Kings', 'Kolkata Knight Riders', 'Rajasthan Royals', 'Royal Challengers Bengaluru', 'Sunrisers Hyderabad', 'Mumbai Indians', 'Chennai Super Kings', 'Rajasthan Royals', 'Kolkata Knight Riders', 'Sunrisers Hyderabad', 'Royal Challengers Bengaluru', 'Chennai Super Kings', 'Rajasthan Royals', 'Royal Challengers Bengaluru', 'Chennai Super Kings', 'Rajasthan Royals', 'Sunrisers Hyderabad', 'Rajasthan Royals', 'Delhi Capitals', 'Chennai Super Kings', 'Kolkata Knight Riders', 'Delhi Capitals', 'Sunrisers Hyderabad', 'Royal Challengers Bengaluru', 'Delhi Capitals', 'Rajasthan Royals', 'Royal Challengers Bengaluru', 'Chennai Super Kings', 'Kolkata Knight Riders', 'Delhi Capitals', 'Sunrisers Hyderabad', 'Royal Challengers Bengaluru', 'Chennai Super Kings', 'Kolkata Knight Riders', 'Mumbai Indians', 'Delhi Capitals', 'Rajasthan Royals', 'Delhi Capitals', 'Chennai Super Kings', 'Rajasthan Royals', 'Sunrisers Hyderabad', 'Royal Challengers Bengaluru', 'Kolkata Knight Riders', 'Rajasthan Royals', 'Sunrisers Hyderabad', 'Rajasthan Royals', 'Kolkata Knight Riders', 'Delhi Capitals', 'Royal Challengers Bengaluru', 'Sunrisers Hyderabad', 'Mumbai Indians', 'Delhi Capitals', 'Chennai Super Kings', 'Royal Challengers Bengaluru', 'Kolkata Knight Riders', 'Delhi Capitals', 'Rajasthan Royals', 'Royal Challengers Bengaluru', 'Chennai Super Kings', 'Sunrisers Hyderabad']\n"
     ]
    }
   ],
   "source": [
    "print(predictions1)"
   ]
  },
  {
   "cell_type": "code",
   "execution_count": 119,
   "metadata": {
    "execution": {
     "iopub.execute_input": "2025-03-23T17:04:06.823619Z",
     "iopub.status.busy": "2025-03-23T17:04:06.823263Z",
     "iopub.status.idle": "2025-03-23T17:04:06.834726Z",
     "shell.execute_reply": "2025-03-23T17:04:06.833708Z",
     "shell.execute_reply.started": "2025-03-23T17:04:06.823565Z"
    },
    "trusted": true
   },
   "outputs": [
    {
     "name": "stdout",
     "output_type": "stream",
     "text": [
      "                          Team  Wins  Points\n",
      "0             Rajasthan Royals    13      26\n",
      "1          Chennai Super Kings    12      24\n",
      "2          Sunrisers Hyderabad    11      22\n",
      "3               Delhi Capitals    10      20\n",
      "4  Royal Challengers Bengaluru    10      20\n",
      "5        Kolkata Knight Riders     9      18\n",
      "6               Mumbai Indians     3       6\n",
      "7               Gujarat Titans     2       4\n"
     ]
    }
   ],
   "source": [
    "# Count the frequency of wins\n",
    "points_table = pd.DataFrame({'Team': pd.Series(predictions1).value_counts().index, \n",
    "                             'Wins': pd.Series(predictions1).value_counts().values})\n",
    "\n",
    "# Assign 2 points per win\n",
    "points_table['Points'] = points_table['Wins'] * 2\n",
    "\n",
    "# Sort by Points in descending order\n",
    "points_table = points_table.sort_values(by='Points', ascending=False).reset_index(drop=True)\n",
    "\n",
    "print(points_table)"
   ]
  },
  {
   "cell_type": "code",
   "execution_count": 124,
   "metadata": {
    "execution": {
     "iopub.execute_input": "2025-03-23T17:11:51.855795Z",
     "iopub.status.busy": "2025-03-23T17:11:51.855399Z",
     "iopub.status.idle": "2025-03-23T17:11:51.872955Z",
     "shell.execute_reply": "2025-03-23T17:11:51.871742Z",
     "shell.execute_reply.started": "2025-03-23T17:11:51.855761Z"
    },
    "trusted": true
   },
   "outputs": [
    {
     "data": {
      "text/html": [
       "<div>\n",
       "<style scoped>\n",
       "    .dataframe tbody tr th:only-of-type {\n",
       "        vertical-align: middle;\n",
       "    }\n",
       "\n",
       "    .dataframe tbody tr th {\n",
       "        vertical-align: top;\n",
       "    }\n",
       "\n",
       "    .dataframe thead th {\n",
       "        text-align: right;\n",
       "    }\n",
       "</style>\n",
       "<table border=\"1\" class=\"dataframe\">\n",
       "  <thead>\n",
       "    <tr style=\"text-align: right;\">\n",
       "      <th></th>\n",
       "      <th>id</th>\n",
       "      <th>season</th>\n",
       "      <th>city</th>\n",
       "      <th>date</th>\n",
       "      <th>time</th>\n",
       "      <th>venue</th>\n",
       "      <th>team1</th>\n",
       "      <th>team2</th>\n",
       "      <th>match_type</th>\n",
       "      <th>isTeam1Home</th>\n",
       "    </tr>\n",
       "  </thead>\n",
       "  <tbody>\n",
       "    <tr>\n",
       "      <th>0</th>\n",
       "      <td>1</td>\n",
       "      <td>2025</td>\n",
       "      <td>Hyderabad</td>\n",
       "      <td>2025-05-20</td>\n",
       "      <td>19:30</td>\n",
       "      <td>Rajiv Gandhi International Stadium</td>\n",
       "      <td>Rajasthan Royals</td>\n",
       "      <td>Chennai Super Kings</td>\n",
       "      <td>T20</td>\n",
       "      <td>False</td>\n",
       "    </tr>\n",
       "    <tr>\n",
       "      <th>1</th>\n",
       "      <td>1</td>\n",
       "      <td>2025</td>\n",
       "      <td>Hyderabad</td>\n",
       "      <td>2025-05-21</td>\n",
       "      <td>19:30</td>\n",
       "      <td>Rajiv Gandhi International Stadium</td>\n",
       "      <td>Sunrisers Hyderabad</td>\n",
       "      <td>Delhi Capitals</td>\n",
       "      <td>T20</td>\n",
       "      <td>False</td>\n",
       "    </tr>\n",
       "  </tbody>\n",
       "</table>\n",
       "</div>"
      ],
      "text/plain": [
       "   id  season       city        date   time  \\\n",
       "0   1    2025  Hyderabad  2025-05-20  19:30   \n",
       "1   1    2025  Hyderabad  2025-05-21  19:30   \n",
       "\n",
       "                                venue                team1  \\\n",
       "0  Rajiv Gandhi International Stadium     Rajasthan Royals   \n",
       "1  Rajiv Gandhi International Stadium  Sunrisers Hyderabad   \n",
       "\n",
       "                 team2 match_type  isTeam1Home  \n",
       "0  Chennai Super Kings        T20        False  \n",
       "1       Delhi Capitals        T20        False  "
      ]
     },
     "execution_count": 124,
     "metadata": {},
     "output_type": "execute_result"
    }
   ],
   "source": [
    "import pandas as pd\n",
    "\n",
    "# Creating a list of dictionaries for custom values\n",
    "data = [\n",
    "    {\n",
    "        \"id\": 1, \"season\": 2025, \"city\": \"Hyderabad\", \"date\": \"2025-05-20\", \"time\": \"19:30\",\n",
    "        \"venue\": \"Rajiv Gandhi International Stadium\", \"team1\": \"Rajasthan Royals\", \"team2\": \"Chennai Super Kings\",\n",
    "        \"match_type\": \"T20\", \"isTeam1Home\": False\n",
    "    },\n",
    "    {\n",
    "        \"id\": 1, \"season\": 2025, \"city\": \"Hyderabad\", \"date\": \"2025-05-21\", \"time\": \"19:30\",\n",
    "        \"venue\": \"Rajiv Gandhi International Stadium\", \"team1\": \"Sunrisers Hyderabad\", \"team2\": \"Delhi Capitals\",\n",
    "        \"match_type\": \"T20\", \"isTeam1Home\": False\n",
    "    },\n",
    "]\n",
    "\n",
    "# Creating DataFrame\n",
    "df = pd.DataFrame(data)\n",
    "\n",
    "# Display DataFrame\n",
    "df.head()\n"
   ]
  },
  {
   "cell_type": "code",
   "execution_count": 125,
   "metadata": {
    "execution": {
     "iopub.execute_input": "2025-03-23T17:11:55.497256Z",
     "iopub.status.busy": "2025-03-23T17:11:55.496870Z",
     "iopub.status.idle": "2025-03-23T17:11:55.608399Z",
     "shell.execute_reply": "2025-03-23T17:11:55.607266Z",
     "shell.execute_reply.started": "2025-03-23T17:11:55.497224Z"
    },
    "trusted": true
   },
   "outputs": [
    {
     "name": "stdout",
     "output_type": "stream",
     "text": [
      "Processing match 1/2: Rajasthan Royals vs Chennai Super Kings\n",
      "Processing match 2/2: Sunrisers Hyderabad vs Delhi Capitals\n"
     ]
    }
   ],
   "source": [
    "#Qualifier 1 and Eliminator\n",
    "predictions2, matches3 = predict_matches(df, matches2, best_xgb, label_encoder_teams, scaler, train_feature_columns)"
   ]
  },
  {
   "cell_type": "code",
   "execution_count": 126,
   "metadata": {
    "execution": {
     "iopub.execute_input": "2025-03-23T17:11:57.375371Z",
     "iopub.status.busy": "2025-03-23T17:11:57.374978Z",
     "iopub.status.idle": "2025-03-23T17:11:57.382050Z",
     "shell.execute_reply": "2025-03-23T17:11:57.380060Z",
     "shell.execute_reply.started": "2025-03-23T17:11:57.375338Z"
    },
    "trusted": true
   },
   "outputs": [
    {
     "name": "stdout",
     "output_type": "stream",
     "text": [
      "['Rajasthan Royals', 'Sunrisers Hyderabad']\n"
     ]
    }
   ],
   "source": [
    "print(predictions2)"
   ]
  },
  {
   "cell_type": "code",
   "execution_count": 127,
   "metadata": {
    "execution": {
     "iopub.execute_input": "2025-03-23T17:12:54.535569Z",
     "iopub.status.busy": "2025-03-23T17:12:54.535227Z",
     "iopub.status.idle": "2025-03-23T17:12:54.550890Z",
     "shell.execute_reply": "2025-03-23T17:12:54.549242Z",
     "shell.execute_reply.started": "2025-03-23T17:12:54.535536Z"
    },
    "trusted": true
   },
   "outputs": [
    {
     "data": {
      "text/html": [
       "<div>\n",
       "<style scoped>\n",
       "    .dataframe tbody tr th:only-of-type {\n",
       "        vertical-align: middle;\n",
       "    }\n",
       "\n",
       "    .dataframe tbody tr th {\n",
       "        vertical-align: top;\n",
       "    }\n",
       "\n",
       "    .dataframe thead th {\n",
       "        text-align: right;\n",
       "    }\n",
       "</style>\n",
       "<table border=\"1\" class=\"dataframe\">\n",
       "  <thead>\n",
       "    <tr style=\"text-align: right;\">\n",
       "      <th></th>\n",
       "      <th>id</th>\n",
       "      <th>season</th>\n",
       "      <th>city</th>\n",
       "      <th>date</th>\n",
       "      <th>time</th>\n",
       "      <th>venue</th>\n",
       "      <th>team1</th>\n",
       "      <th>team2</th>\n",
       "      <th>match_type</th>\n",
       "      <th>isTeam1Home</th>\n",
       "    </tr>\n",
       "  </thead>\n",
       "  <tbody>\n",
       "    <tr>\n",
       "      <th>0</th>\n",
       "      <td>1</td>\n",
       "      <td>2025</td>\n",
       "      <td>Kolkata</td>\n",
       "      <td>2025-05-23</td>\n",
       "      <td>19:30</td>\n",
       "      <td>Eden Gardens</td>\n",
       "      <td>Chennai Super Kings</td>\n",
       "      <td>Sunrisers Hyderabad</td>\n",
       "      <td>T20</td>\n",
       "      <td>False</td>\n",
       "    </tr>\n",
       "  </tbody>\n",
       "</table>\n",
       "</div>"
      ],
      "text/plain": [
       "   id  season     city        date   time         venue                team1  \\\n",
       "0   1    2025  Kolkata  2025-05-23  19:30  Eden Gardens  Chennai Super Kings   \n",
       "\n",
       "                 team2 match_type  isTeam1Home  \n",
       "0  Sunrisers Hyderabad        T20        False  "
      ]
     },
     "execution_count": 127,
     "metadata": {},
     "output_type": "execute_result"
    }
   ],
   "source": [
    "import pandas as pd\n",
    "\n",
    "# Creating a list of dictionaries for custom values\n",
    "data1 = [\n",
    "    {\n",
    "        \"id\": 1, \"season\": 2025, \"city\": \"Kolkata\", \"date\": \"2025-05-23\", \"time\": \"19:30\",\n",
    "        \"venue\": \"Eden Gardens\", \"team1\": \"Chennai Super Kings\", \"team2\": \"Sunrisers Hyderabad\",\n",
    "        \"match_type\": \"T20\", \"isTeam1Home\": False\n",
    "    },\n",
    "]\n",
    "\n",
    "# Creating DataFrame\n",
    "df1 = pd.DataFrame(data1)\n",
    "\n",
    "# Display DataFrame\n",
    "df1.head()"
   ]
  },
  {
   "cell_type": "code",
   "execution_count": 128,
   "metadata": {
    "execution": {
     "iopub.execute_input": "2025-03-23T17:13:12.935215Z",
     "iopub.status.busy": "2025-03-23T17:13:12.934793Z",
     "iopub.status.idle": "2025-03-23T17:13:12.989574Z",
     "shell.execute_reply": "2025-03-23T17:13:12.988403Z",
     "shell.execute_reply.started": "2025-03-23T17:13:12.935184Z"
    },
    "trusted": true
   },
   "outputs": [
    {
     "name": "stdout",
     "output_type": "stream",
     "text": [
      "Processing match 1/1: Chennai Super Kings vs Sunrisers Hyderabad\n"
     ]
    }
   ],
   "source": [
    "#Qualifier 2 prediction\n",
    "predictions3, matches4 = predict_matches(df1, matches3, best_xgb, label_encoder_teams, scaler, train_feature_columns)"
   ]
  },
  {
   "cell_type": "code",
   "execution_count": 129,
   "metadata": {
    "execution": {
     "iopub.execute_input": "2025-03-23T17:13:21.135277Z",
     "iopub.status.busy": "2025-03-23T17:13:21.134794Z",
     "iopub.status.idle": "2025-03-23T17:13:21.141708Z",
     "shell.execute_reply": "2025-03-23T17:13:21.140474Z",
     "shell.execute_reply.started": "2025-03-23T17:13:21.135221Z"
    },
    "trusted": true
   },
   "outputs": [
    {
     "data": {
      "text/plain": [
       "['Chennai Super Kings']"
      ]
     },
     "execution_count": 129,
     "metadata": {},
     "output_type": "execute_result"
    }
   ],
   "source": [
    "predictions3"
   ]
  },
  {
   "cell_type": "code",
   "execution_count": 133,
   "metadata": {
    "execution": {
     "iopub.execute_input": "2025-03-23T17:15:00.135262Z",
     "iopub.status.busy": "2025-03-23T17:15:00.134859Z",
     "iopub.status.idle": "2025-03-23T17:15:00.149878Z",
     "shell.execute_reply": "2025-03-23T17:15:00.148733Z",
     "shell.execute_reply.started": "2025-03-23T17:15:00.135227Z"
    },
    "trusted": true
   },
   "outputs": [
    {
     "data": {
      "text/html": [
       "<div>\n",
       "<style scoped>\n",
       "    .dataframe tbody tr th:only-of-type {\n",
       "        vertical-align: middle;\n",
       "    }\n",
       "\n",
       "    .dataframe tbody tr th {\n",
       "        vertical-align: top;\n",
       "    }\n",
       "\n",
       "    .dataframe thead th {\n",
       "        text-align: right;\n",
       "    }\n",
       "</style>\n",
       "<table border=\"1\" class=\"dataframe\">\n",
       "  <thead>\n",
       "    <tr style=\"text-align: right;\">\n",
       "      <th></th>\n",
       "      <th>id</th>\n",
       "      <th>season</th>\n",
       "      <th>city</th>\n",
       "      <th>date</th>\n",
       "      <th>time</th>\n",
       "      <th>venue</th>\n",
       "      <th>team1</th>\n",
       "      <th>team2</th>\n",
       "      <th>match_type</th>\n",
       "      <th>isTeam1Home</th>\n",
       "    </tr>\n",
       "  </thead>\n",
       "  <tbody>\n",
       "    <tr>\n",
       "      <th>0</th>\n",
       "      <td>1</td>\n",
       "      <td>2025</td>\n",
       "      <td>Kolkata</td>\n",
       "      <td>2025-05-25</td>\n",
       "      <td>19:30</td>\n",
       "      <td>Eden Gardens</td>\n",
       "      <td>Rajasthan Royals</td>\n",
       "      <td>Chennai Super Kings</td>\n",
       "      <td>T20</td>\n",
       "      <td>False</td>\n",
       "    </tr>\n",
       "  </tbody>\n",
       "</table>\n",
       "</div>"
      ],
      "text/plain": [
       "   id  season     city        date   time         venue             team1  \\\n",
       "0   1    2025  Kolkata  2025-05-25  19:30  Eden Gardens  Rajasthan Royals   \n",
       "\n",
       "                 team2 match_type  isTeam1Home  \n",
       "0  Chennai Super Kings        T20        False  "
      ]
     },
     "execution_count": 133,
     "metadata": {},
     "output_type": "execute_result"
    }
   ],
   "source": [
    "import pandas as pd\n",
    "\n",
    "# Creating a list of dictionaries for custom values\n",
    "data2 = [\n",
    "    {\n",
    "        \"id\": 1, \"season\": 2025, \"city\": \"Kolkata\", \"date\": \"2025-05-25\", \"time\": \"19:30\",\n",
    "        \"venue\": \"Eden Gardens\", \"team1\": \"Rajasthan Royals\", \"team2\": \"Chennai Super Kings\",\n",
    "        \"match_type\": \"T20\", \"isTeam1Home\": False\n",
    "    },\n",
    "]\n",
    "\n",
    "# Creating DataFrame\n",
    "df2 = pd.DataFrame(data2)\n",
    "\n",
    "# Display DataFrame\n",
    "df2.head()"
   ]
  },
  {
   "cell_type": "code",
   "execution_count": 134,
   "metadata": {
    "execution": {
     "iopub.execute_input": "2025-03-23T17:15:09.580550Z",
     "iopub.status.busy": "2025-03-23T17:15:09.580213Z",
     "iopub.status.idle": "2025-03-23T17:15:09.634916Z",
     "shell.execute_reply": "2025-03-23T17:15:09.633686Z",
     "shell.execute_reply.started": "2025-03-23T17:15:09.580522Z"
    },
    "trusted": true
   },
   "outputs": [
    {
     "name": "stdout",
     "output_type": "stream",
     "text": [
      "Processing match 1/1: Rajasthan Royals vs Chennai Super Kings\n"
     ]
    }
   ],
   "source": [
    "#Finals Prediction\n",
    "predictions4, matches5 = predict_matches(df2, matches4, best_xgb, label_encoder_teams, scaler, train_feature_columns)"
   ]
  },
  {
   "cell_type": "code",
   "execution_count": 135,
   "metadata": {
    "execution": {
     "iopub.execute_input": "2025-03-23T17:15:11.814830Z",
     "iopub.status.busy": "2025-03-23T17:15:11.814454Z",
     "iopub.status.idle": "2025-03-23T17:15:11.820784Z",
     "shell.execute_reply": "2025-03-23T17:15:11.819718Z",
     "shell.execute_reply.started": "2025-03-23T17:15:11.814800Z"
    },
    "trusted": true
   },
   "outputs": [
    {
     "data": {
      "text/plain": [
       "['Rajasthan Royals']"
      ]
     },
     "execution_count": 135,
     "metadata": {},
     "output_type": "execute_result"
    }
   ],
   "source": [
    "predictions4"
   ]
  }
 ],
 "metadata": {
  "kaggle": {
   "accelerator": "none",
   "dataSources": [
    {
     "datasetId": 6928729,
     "sourceId": 11113002,
     "sourceType": "datasetVersion"
    },
    {
     "datasetId": 6948145,
     "sourceId": 11139222,
     "sourceType": "datasetVersion"
    }
   ],
   "dockerImageVersionId": 30918,
   "isGpuEnabled": false,
   "isInternetEnabled": true,
   "language": "python",
   "sourceType": "notebook"
  },
  "kernelspec": {
   "display_name": "Python 3",
   "language": "python",
   "name": "python3"
  },
  "language_info": {
   "codemirror_mode": {
    "name": "ipython",
    "version": 3
   },
   "file_extension": ".py",
   "mimetype": "text/x-python",
   "name": "python",
   "nbconvert_exporter": "python",
   "pygments_lexer": "ipython3",
   "version": "3.10.12"
  }
 },
 "nbformat": 4,
 "nbformat_minor": 4
}
